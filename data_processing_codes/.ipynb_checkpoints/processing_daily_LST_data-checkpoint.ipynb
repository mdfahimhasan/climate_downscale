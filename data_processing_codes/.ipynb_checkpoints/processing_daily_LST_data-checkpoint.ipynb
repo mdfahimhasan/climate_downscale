{
 "cells": [
  {
   "cell_type": "markdown",
   "id": "433f4df3",
   "metadata": {},
   "source": [
    "### Author: Md Fahim Hasan\n",
    "### Work Email: mdfahim.hasan@bayer.com"
   ]
  },
  {
   "cell_type": "markdown",
   "id": "989a0e65",
   "metadata": {},
   "source": [
    "# Read me\n",
    "\n",
    "In this script, we process the satellite [Land Surface Temperature (LST)](https://location360.assets.engineering/docs/imagery/sat_pipeline/sources/planet/vandersat_sar/#land-surface-temperature) dataset for `Woodland Site`. The satellite LST and soil moisture datasets were queried and given to me by `Feng Yu`. The initial plan was to integrate both LST and soil moisture data in the ANalytical-Ready Dataset (ARD). But during `Exploratoty Data Analysis (EDA)` we found some issues with both LST and soil moisture dataset. For this reason, we only processed satellite LST dataset for the `100m ARD`.  \n",
    "\n",
    "The following issues were noticed in satellite LST and soil moisture datasets:\n",
    "\n",
    "- __Data overlapping issue:__ For different site numbers (Feng assigned the site numbers based on different polygon number) in the satellite data, there are data overlap. For example, for a single date, data with different site numbers overlaps, where it was supposed to be datasets of different regions of the US. I found that most of the datasets overlap in Woodland and a site in Wisconsin. Feng believes it is an issue in the source. Need to investigate it further in future to see whether it is a data source or querying issue.\n",
    "\n",
    "- __Data value issue:__ The datasets don't have soil moisture estimates (float values).  All values in a dataset seem to be a single integer number (2/4/...). `LST data does have float values`, but the overlapping issue exists.\n",
    "- __Data reading issue:__ Some soil mositure datasets can't be read (no data appears on QGIS).\n",
    "\n",
    "\n",
    "__Considering both the overlapping and value issues, we decided not to integrate soil moisture data in the `100m ARD` for now. The LST dataset only has ovelapping issue but we have data for Woodland site, CA; Wisconsin site, and Mexico site. It also consists data that covers partials of Woodland site (see detail EPD results in `('Exp_DA_satellite_data.ipynb)` script). As data over Woodland is the most frequent (available for 1505 days between a timeline 2017-07-01 to 2022-08-05), we will focus on processing LST dataset over Woodland only for now.__\n",
    "\n",
    "\n",
    "Upon availablitiy of soil moisture dataset in the right format (with no issue), the similar steps can be followed to process the data.\n",
    "\n"
   ]
  },
  {
   "cell_type": "markdown",
   "id": "1bcf1c7c",
   "metadata": {},
   "source": [
    "------------"
   ]
  },
  {
   "cell_type": "markdown",
   "id": "e902fce4",
   "metadata": {},
   "source": [
    "# Data Processing Steps\n",
    "\n",
    "The following steps were followed to process the `satellite LST` datasets-\n",
    "\n",
    "__1. Region of Interest (ROI) and Reference raster:__ Our original ROI is a part of central valley, California. In this original ROI, we have LST data coverage for Woodland site only. Therefore, we are choosing the `Woodland Site` as our ROI. The `100m ARD` will be processed for Woodland site only (see `..ARD_compilation/soil_elevation_ARD_100m_Woodland.ipynb` script for detail).\n",
    "\n",
    "A random LST dataset over `Woodland` is chosen as the refernece raster for processing LST datasets. This raster will also be used as the reference raster to process LST, soil, elevation, and weather datasets for the `100m ARD`.\n",
    "\n",
    "__2. Selecting `LST` datasets only:__ The datasets provided by Feng consists of both LST and soil moisture data. Only choosing LST datasets for further processing.\n",
    "\n",
    "__3. Converting multi band LST data to single band for Woodland:__ The satellite LST datasets have two (02) bands. But only `band 1` consists of the actual data. This step includes multiple steps-\n",
    "\n",
    "    - Loop over the overlapping datasets and find only one LST data for a single day over Woodland.\n",
    "    - Scale the data (multiplying by 0.01 scale factor), convert unit from Kelvin to deg celcius, and save it as a single band. THe scaling, unit conversion , and single band saving can be performed using the `save_raster_as_single_band()` function. \n",
    "    \n",
    "    \n",
    "    \n",
    "__Note__\n",
    "- Similar steps can be followed to process the `soil moisture` dataset upon availability of quality data.\n",
    "- The functions used in this script can be found in `processing_utils.ipynb` script."
   ]
  },
  {
   "cell_type": "markdown",
   "id": "176b1cad",
   "metadata": {},
   "source": [
    "---------------"
   ]
  },
  {
   "cell_type": "code",
   "execution_count": 2,
   "id": "c7bd00e1",
   "metadata": {},
   "outputs": [],
   "source": [
    "import zipfile as zip\n",
    "from glob import glob\n",
    "import rasterio as rio\n",
    "import matplotlib.pyplot as plt\n",
    "\n",
    "from ipynb.fs.full.process_utils import *"
   ]
  },
  {
   "cell_type": "code",
   "execution_count": 1,
   "id": "c0621632",
   "metadata": {},
   "outputs": [],
   "source": [
    "# If the data is in local machine, ipload a zipfile and unzip all the datasets using the following codes\n",
    "\n",
    "# files = zip.ZipFile(filepath, 'r')\n",
    "# files.extractall(filepath_to_extarct_data)\n",
    "# files.close()"
   ]
  },
  {
   "cell_type": "markdown",
   "id": "43425481",
   "metadata": {},
   "source": [
    "# 1. Region of Interest (ROI) and Reference raster\n",
    "\n",
    "A random LST dataset over `Woodland` is chosen as the refernece raster for processing LST datasets. This raster will also be used as the reference raster to process LST, soil, elevation, and weather datasets for the `100m ARD`.\n",
    "\n",
    "Using the reference raster over Woodland, we will create a shapefile over Woodland. This shapefile will be used for filtering LST datasets for Woodland and further processing steps."
   ]
  },
  {
   "cell_type": "code",
   "execution_count": 13,
   "id": "92ea23a7",
   "metadata": {},
   "outputs": [
    {
     "data": {
      "text/plain": [
       "(-121.82044444445967,\n",
       " 38.670222222227046,\n",
       " -121.80266666668189,\n",
       " 38.685333333338164)"
      ]
     },
     "execution_count": 13,
     "metadata": {},
     "output_type": "execute_result"
    }
   ],
   "source": [
    "# A LST dataset that covers the whole Woodland\n",
    "reference_LST_raster =  '../../datasets/satellite_raster_data/All/land_surface_temperature_Veg_US_Crop_876_2018-08-06.tif'\n",
    "ref_minx, ref_miny, ref_maxx, ref_maxy= rio.open(reference_LST_raster).bounds\n",
    "ref_minx, ref_miny, ref_maxx, ref_maxy"
   ]
  },
  {
   "cell_type": "code",
   "execution_count": 5,
   "id": "921bb910",
   "metadata": {},
   "outputs": [
    {
     "name": "stdout",
     "output_type": "stream",
     "text": [
      "EPSG: 4326\n"
     ]
    },
    {
     "data": {
      "image/png": "[encoded data removed]",
      "text/plain": [
       "<Figure size 640x480 with 1 Axes>"
      ]
     },
     "metadata": {},
     "output_type": "display_data"
    }
   ],
   "source": [
    "# creating a polygon geodataframe/shapefile using reference raster bounding box\n",
    "# will use this to mask ERA5 datasets\n",
    "ref_geom = box(ref_minx, ref_miny, ref_maxx, ref_maxy)\n",
    "ref_gdf = gpd.GeoDataFrame({'id': 1, 'geometry': [ref_geom]})\n",
    "ref_gdf = ref_gdf.set_crs('EPSG: 4326')\n",
    "print(ref_gdf.crs)\n",
    "ref_gdf.plot()\n",
    "ref_gdf.to_file('../shapefiles_grids/LST_Woodland_bbox.shp')"
   ]
  },
  {
   "cell_type": "markdown",
   "id": "0a9cdd55",
   "metadata": {},
   "source": [
    "# 2. Selecting `LST` datasets only\n",
    " The datasets provided by Feng consists of both LST and soil moisture data. Only choosing LST datasets for further processing."
   ]
  },
  {
   "cell_type": "code",
   "execution_count": 15,
   "id": "3818e75d",
   "metadata": {},
   "outputs": [
    {
     "data": {
      "text/plain": [
       "['../../datasets/satellite_raster_data/All/land_surface_temperature_Veg_US_Crop_51_2021-08-30.tif',\n",
       " '../../datasets/satellite_raster_data/All/land_surface_temperature_Veg_US_Crop_903_2018-07-04.tif',\n",
       " '../../datasets/satellite_raster_data/All/land_surface_temperature_Veg_US_Crop_893_2019-07-03.tif',\n",
       " '../../datasets/satellite_raster_data/All/land_surface_temperature_Veg_US_Crop_904_2019-12-10.tif',\n",
       " '../../datasets/satellite_raster_data/All/land_surface_temperature_Veg_US_Crop_50_2018-08-15.tif']"
      ]
     },
     "execution_count": 15,
     "metadata": {},
     "output_type": "execute_result"
    }
   ],
   "source": [
    "# taking all LST datasets in a list\n",
    "folder = '../../datasets/satellite_raster_data/All'\n",
    "temperature_datasets = glob(os.path.join(folder, '*temperature*.tif'))\n",
    "temperature_datasets[:5]"
   ]
  },
  {
   "cell_type": "code",
   "execution_count": 16,
   "id": "89a03555",
   "metadata": {},
   "outputs": [
    {
     "name": "stdout",
     "output_type": "stream",
     "text": [
      "Unique dates for which satellite datasets are avaiable: 1881\n"
     ]
    }
   ],
   "source": [
    "# taking unique dates of the available datasets in a list\n",
    "# Listing unique dates for which datasets are available\n",
    "dates = []\n",
    "\n",
    "for data in temperature_datasets:\n",
    "    date = data.rsplit('_')[-1].split('.')[0]\n",
    "    dates.append(date)\n",
    "\n",
    "unique_dates = np.unique(dates)\n",
    "print('Unique dates for which satellite datasets are avaiable:', len(unique_dates))"
   ]
  },
  {
   "cell_type": "code",
   "execution_count": 17,
   "id": "91194df9",
   "metadata": {},
   "outputs": [
    {
     "data": {
      "text/plain": [
       "('2017-07-01', '2022-09-16')"
      ]
     },
     "execution_count": 17,
     "metadata": {},
     "output_type": "execute_result"
    }
   ],
   "source": [
    "sorted(unique_dates)[0], sorted(unique_dates)[-1]"
   ]
  },
  {
   "cell_type": "markdown",
   "id": "0544fc3d",
   "metadata": {},
   "source": [
    "# 3. Converting multi band LST data to single band for Woodland\n",
    "\n",
    "The LST datasets have overlapping issue. We have go over each LST datasets and choose only one dataset for Woodland for a single day. \n",
    "\n",
    "**Looping through each LST dataset (for all regions) and selecting only one dataset per day (filtering out overlapping datasets) for Woodland. Then, converting it to a single band raster (there are 2 bands in the dataset), and scaling the data (multiplying by 0.01 scale factor), and converting unit from Kelvin to deg celcius.**"
   ]
  },
  {
   "cell_type": "code",
   "execution_count": 18,
   "id": "5f7a803c",
   "metadata": {},
   "outputs": [],
   "source": [
    "# output_dir\n",
    "single_band_output_dir = '../../datasets/satellite_raster_data/Woodland/LST_single_band'\n",
    "\n",
    "# Looping through each unique date and selecting only a single dataset (will not consider the overlapping datasets) that covers whole Woodland site\n",
    "for date in unique_dates:\n",
    "    # collecting all temperature datasets in a list \n",
    "    filtered_datasets = [i for i in temperature_datasets if date in i]\n",
    "        \n",
    "    # selecting a single data for Woodland site and not considering the overlapping datasets\n",
    "    # Using the reference raster for Woodland's extent to find datasets over `whole` Woddland site\n",
    "    for each in filtered_datasets:\n",
    "        minx, miny, maxx, maxy= rio.open(each).bounds\n",
    "        if (maxx==ref_maxx) & (maxy==ref_maxy) & (minx==ref_minx) & (miny==ref_miny): \n",
    "            woodland_whole_data = each\n",
    "            \n",
    "    # saving raster as single band\n",
    "    # Scaling the data and converting the unit from Kelvin to deg C\n",
    "    save_raster_as_single_band(input_raster=woodland_whole_data, \n",
    "                               output_dir=single_band_output_dir, \n",
    "                               change_dtype=True, scale=True, scale_factor=0.01,\n",
    "                               subtract_value=True, value=273.15, \n",
    "                               reformat_date=True, nodata=-9999)\n",
    "        "
   ]
  },
  {
   "cell_type": "code",
   "execution_count": null,
   "id": "aa7163d9",
   "metadata": {},
   "outputs": [],
   "source": []
  }
 ],
 "metadata": {
  "kernelspec": {
   "display_name": "conda_python3",
   "language": "python",
   "name": "conda_python3"
  },
  "language_info": {
   "codemirror_mode": {
    "name": "ipython",
    "version": 3
   },
   "file_extension": ".py",
   "mimetype": "text/x-python",
   "name": "python",
   "nbconvert_exporter": "python",
   "pygments_lexer": "ipython3",
   "version": "3.10.10"
  }
 },
 "nbformat": 4,
 "nbformat_minor": 5
}
