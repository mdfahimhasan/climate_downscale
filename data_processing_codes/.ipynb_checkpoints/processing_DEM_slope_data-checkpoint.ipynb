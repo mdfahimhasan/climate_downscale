{
 "cells": [
  {
   "cell_type": "markdown",
   "id": "f0a1e7b2",
   "metadata": {},
   "source": [
    "### Author: Md Fahim Hasan\n",
    "### Work Email: mdfahim.hasan@bayer.com"
   ]
  },
  {
   "cell_type": "markdown",
   "id": "e0e50bd0",
   "metadata": {},
   "source": [
    "# Read me\n",
    "\n",
    "This script processes downloaded [SRTM DEM elevation](https://cswarehouse.io/datasets/location360/topography/srtm/) data from Crop Science Warehouse (CSW).\n",
    "\n",
    "The SRTM data is the elevation data. In addition, we have generated and processed slope and aspect data from DEM from this script. In total, three datasets are processed in this script-\n",
    "\n",
    "  1. Elevation \n",
    "  2. Slope\n",
    "  3. Aspect"
   ]
  },
  {
   "cell_type": "markdown",
   "id": "388d5cd4",
   "metadata": {},
   "source": [
    "# Data Processing Steps\n",
    "\n",
    "Throughout the following processing steps, I will be referring elevation+slope+aspect data as __`elevation datasets`__. For referring to invidual data, I will use `elevation data/slope/aspect`. \n",
    "\n",
    "The following steps have been followed for processing __`elevation datasets`__-\n",
    "\n",
    "__1. Compiling data for individual cities into a single parquet/dataframe:__ The elevation data `30m spatial resolution`. Due to large query size for this high spatial resolution, querying the data for the whole Region of Interest (ROI) at once wasn't feasible.  Instead, data was downloaded for individual cities (see `../query_codes/elevation_data_query.ipynb` for detail steps). These individual queried files for each city ('.parquet' files) were compiled to a single dataframe ('.parquet' format) file using `compile_elevation_data_in_single_dataframe()` function.\n",
    "\n",
    "__2. Rasterizing to 100m:__ Though the native resolution of SRTM DEM data is in `30m`, the dataset was rasterized to `100m resolution` using `rasterize_shapefile()` function. Instead of rasterizing to native `30m` resolution, we chose `100m` as the target resolution because 100m is the resolution of the satelllite datasets and we will later compile all datasets to a `100m version of Analytical-Ready Dataset (ARD)`. \n",
    "     \n",
    "__3. Resampling 100m data to 4km:__ In this framework, we also create a `4km ARD`. We also need 4km resolution elevation datasets for the machine learning/deep learning models. Therefore, we resampled the 100m rasterized elevation datasets to 4km resolution using the `resample_raster_based_on_ref_raster()` function.\n",
    "\n",
    "__4. Resampling 100m data to 8km:__ The `total-precipitation` model was made for `8km` resolution datasets. And this particular model needed `8km` resolution elevation datasets. Therefore, we resampled the 100m rasterized elevation datasets to 8km resolution using the `resample_raster_based_on_ref_raster()` function.\n",
    "\n",
    "\n",
    "\n",
    "### Note\n",
    "- For __slope__ and __aspect__ data, the first 2 steps are replaced by __`Creating 100m slope and aspect rasters`__. This step uses the `calculate_slope_aspect()` function to convert DEM/elevation data to slope and ascpect. This function is based on the [GemGIS](https://gemgis.readthedocs.io/en/latest/) library.\n",
    "\n",
    "- __Region of Interest (ROI):__ We chose some `selected cities in Califoania` as the Region of Interest (ROI). The ROI consists of some parts of the Central Valley, California that has significant agriculture. The ROI selection was based on consideration that it should overlap some `Testing Fields` in that region.\n",
    "- The functions used in this script can be found in `process_utils.ipnyb` script.\n",
    "- The elevation datasets have been queried from Crop Science Warehouse using codes/scripts that can be found in `../query_codes` folder."
   ]
  },
  {
   "cell_type": "markdown",
   "id": "1d4dd3e4",
   "metadata": {},
   "source": [
    "------------------------"
   ]
  },
  {
   "cell_type": "code",
   "execution_count": 1,
   "id": "69da4535",
   "metadata": {},
   "outputs": [],
   "source": [
    "from glob import glob\n",
    "import rasterio as rio\n",
    "from rasterio.plot import show\n",
    "import matplotlib.pyplot as plt\n",
    "\n",
    "from ipynb.fs.full.process_utils import *"
   ]
  },
  {
   "cell_type": "markdown",
   "id": "83760935",
   "metadata": {},
   "source": [
    "## Reference Rasters\n",
    "Instead of 4km and 8km reference rasters that were previously mentioned/loaded in `weather data processing script` and other places, here, twc 4km and 8km datasets will be used as 4km and 8km reference rasters. This is because the masking/clipping operation during weather data processing increases processed TWC and ERA5 datasets' row & colum number by 1 (refer to `Discussion.ipynb` and `processing_daily_weather_data.ipynb` for detail) than the original reference rasters. We want elevation data to be of the same row & column number as TWC/ERA5 datasets."
   ]
  },
  {
   "cell_type": "code",
   "execution_count": 2,
   "id": "d9dddc37",
   "metadata": {},
   "outputs": [],
   "source": [
    "cities_California_100m_refraster = '../reference_rasters/cities_California_100m_ref_raster.tif'\n",
    "cities_california_4km_refraster = '../../datasets/weather_raster_data/cities_California/twc_data/weather_data_4km/max_temp/max_temp_20210101.tif' \n",
    "cities_california_8km_refraster = '../../datasets/weather_raster_data/cities_California/twc_data/precip_data_8km/total_precip/total_precip_20210101.tif'"
   ]
  },
  {
   "cell_type": "markdown",
   "id": "76cd2c81",
   "metadata": {},
   "source": [
    "--------------"
   ]
  },
  {
   "cell_type": "markdown",
   "id": "be450ec4",
   "metadata": {},
   "source": [
    "# Processing SRTM Elevation data for Cities of California"
   ]
  },
  {
   "cell_type": "markdown",
   "id": "682a0975",
   "metadata": {},
   "source": [
    "## 1. Compiling data for individual cities into a single parquet/dataframe\n",
    "\n",
    "SRTM DEM elevation data was queried for individual cities and each city has a separate parquet file. In this step, we are merging/compiling them into 01 dataframe/parquet file."
   ]
  },
  {
   "cell_type": "code",
   "execution_count": null,
   "id": "cb93245e",
   "metadata": {},
   "outputs": [],
   "source": [
    "elevation_data_dir = '../../datasets/elevation_data_shapefiles'\n",
    "output_parquet = '../../datasets/processed_parquet_data/cities_California/elevation.parquet'\n",
    "\n",
    "compiled_gdf = compile_elevation_data_in_single_dataframe(input_data_dir=elevation_data_dir, \n",
    "                                                          output_parquet=output_parquet, search_by='*.parquet')"
   ]
  },
  {
   "cell_type": "code",
   "execution_count": 4,
   "id": "faa66309",
   "metadata": {},
   "outputs": [
    {
     "data": {
      "text/html": [
       "<div>\n",
       "<style scoped>\n",
       "    .dataframe tbody tr th:only-of-type {\n",
       "        vertical-align: middle;\n",
       "    }\n",
       "\n",
       "    .dataframe tbody tr th {\n",
       "        vertical-align: top;\n",
       "    }\n",
       "\n",
       "    .dataframe thead th {\n",
       "        text-align: right;\n",
       "    }\n",
       "</style>\n",
       "<table border=\"1\" class=\"dataframe\">\n",
       "  <thead>\n",
       "    <tr style=\"text-align: right;\">\n",
       "      <th></th>\n",
       "      <th>h3</th>\n",
       "      <th>hids</th>\n",
       "      <th>elevation</th>\n",
       "      <th>geometry</th>\n",
       "    </tr>\n",
       "  </thead>\n",
       "  <tbody>\n",
       "    <tr>\n",
       "      <th>0</th>\n",
       "      <td>8b29a82c94c2fff</td>\n",
       "      <td>201880165137</td>\n",
       "      <td>58.99</td>\n",
       "      <td>POLYGON ((-120.11383 36.65381, -120.11367 36.6...</td>\n",
       "    </tr>\n",
       "    <tr>\n",
       "      <th>1</th>\n",
       "      <td>8b29a94b464afff</td>\n",
       "      <td>110038682467</td>\n",
       "      <td>60.73</td>\n",
       "      <td>POLYGON ((-120.17896 36.76961, -120.17880 36.7...</td>\n",
       "    </tr>\n",
       "    <tr>\n",
       "      <th>2</th>\n",
       "      <td>8b29ab966a45fff</td>\n",
       "      <td>142874769281</td>\n",
       "      <td>67.61</td>\n",
       "      <td>POLYGON ((-120.06669 36.68512, -120.06654 36.6...</td>\n",
       "    </tr>\n",
       "    <tr>\n",
       "      <th>3</th>\n",
       "      <td>8b29ab9406b3fff</td>\n",
       "      <td>173304794355</td>\n",
       "      <td>72.92</td>\n",
       "      <td>POLYGON ((-120.04689 36.76384, -120.04673 36.7...</td>\n",
       "    </tr>\n",
       "    <tr>\n",
       "      <th>4</th>\n",
       "      <td>8b29ab9656d4fff</td>\n",
       "      <td>122615375761</td>\n",
       "      <td>64.67</td>\n",
       "      <td>POLYGON ((-120.09672 36.69485, -120.09657 36.6...</td>\n",
       "    </tr>\n",
       "  </tbody>\n",
       "</table>\n",
       "</div>"
      ],
      "text/plain": [
       "                h3          hids  elevation   \n",
       "0  8b29a82c94c2fff  201880165137      58.99  \\\n",
       "1  8b29a94b464afff  110038682467      60.73   \n",
       "2  8b29ab966a45fff  142874769281      67.61   \n",
       "3  8b29ab9406b3fff  173304794355      72.92   \n",
       "4  8b29ab9656d4fff  122615375761      64.67   \n",
       "\n",
       "                                            geometry  \n",
       "0  POLYGON ((-120.11383 36.65381, -120.11367 36.6...  \n",
       "1  POLYGON ((-120.17896 36.76961, -120.17880 36.7...  \n",
       "2  POLYGON ((-120.06669 36.68512, -120.06654 36.6...  \n",
       "3  POLYGON ((-120.04689 36.76384, -120.04673 36.7...  \n",
       "4  POLYGON ((-120.09672 36.69485, -120.09657 36.6...  "
      ]
     },
     "execution_count": 4,
     "metadata": {},
     "output_type": "execute_result"
    }
   ],
   "source": [
    "elevation_gdf = gpd.read_parquet('../../datasets/processed_parquet_data/cities_California/elevation.parquet')\n",
    "elevation_gdf.head()"
   ]
  },
  {
   "cell_type": "markdown",
   "id": "0923eee0",
   "metadata": {},
   "source": [
    "## 2. Rasterizing to 100m\n",
    "\n",
    "Instead of rasterizing to native `30m` resolution, we chose `100m` as the target resolution because 100m is the resolution of the satelllite datasets and we will later compile all datasets to a `100m version of Analytical-Ready Dataset (ARD)`. \n",
    "\n",
    "For the `4km ARD`, we are resampling the elevation data to 4km resolution in the next step."
   ]
  },
  {
   "cell_type": "code",
   "execution_count": 6,
   "id": "3d5b6245",
   "metadata": {},
   "outputs": [
    {
     "data": {
      "text/plain": [
       "'../../datasets/elevation_raster_data/cities_california/elevation/elevation_100m.tif'"
      ]
     },
     "execution_count": 6,
     "metadata": {},
     "output_type": "execute_result"
    }
   ],
   "source": [
    "elevation_gdf = gpd.read_parquet('../../datasets/processed_parquet_data/cities_California/elevation.parquet')\n",
    "output_dir = '../../datasets/elevation_raster_data/cities_california/elevation'\n",
    "output_raster = '../../datasets/elevation_raster_data/cities_california/elevation/elevation_100m.tif'\n",
    "\n",
    "makedirs([output_dir])\n",
    "\n",
    "rasterize_shapefile(input_file=elevation_gdf, output_raster=output_raster, attribute='elevation', \n",
    "                    ref_raster=cities_California_100m_refraster , date=None, grid_shapefile=None, \n",
    "                    merge_alg = MergeAlg.replace, dtype='float32', no_data_value=-9999, paste_on_ref_raster=False)"
   ]
  },
  {
   "cell_type": "markdown",
   "id": "b39de807",
   "metadata": {},
   "source": [
    "## 3. Resampling 100m data to 4km\n",
    "\n",
    "For the 4km ARD and machine learning models (that uses 4km pixel datasets as input variables), we are resampling the elevation data to 4km resolution."
   ]
  },
  {
   "cell_type": "code",
   "execution_count": 7,
   "id": "338a5368",
   "metadata": {},
   "outputs": [
    {
     "data": {
      "text/plain": [
       "'../../datasets/elevation_raster_data/cities_california/elevation/elevation_4km.tif'"
      ]
     },
     "execution_count": 7,
     "metadata": {},
     "output_type": "execute_result"
    }
   ],
   "source": [
    "elevation_data_100m = '../../datasets/elevation_raster_data/cities_california/elevation/elevation_100m.tif'\n",
    "output_dir = '../../datasets/elevation_raster_data/cities_california/elevation'\n",
    "\n",
    "resample_raster_based_on_ref_raster(input_raster=elevation_data_100m, \n",
    "                                    ref_raster=cities_california_4km_refraster, \n",
    "                                    output_dir=output_dir, raster_name='elevation_4km.tif', \n",
    "                                    resampling_alg=Resampling.bilinear)"
   ]
  },
  {
   "cell_type": "markdown",
   "id": "e3816921",
   "metadata": {},
   "source": [
    "## 4. Resampling 100m data to 8km\n",
    "The `total-precipitation` model was made for `8km` resolution datasets. And this particular model needed `8km` resolution elevation datasets. Therefore, we resampled the 100m rasterized elevation datasets to 8km resolution in this step."
   ]
  },
  {
   "cell_type": "code",
   "execution_count": 10,
   "id": "dd296efc",
   "metadata": {},
   "outputs": [
    {
     "data": {
      "text/plain": [
       "'../../datasets/elevation_raster_data/cities_california/elevation/elevation_8km.tif'"
      ]
     },
     "execution_count": 10,
     "metadata": {},
     "output_type": "execute_result"
    }
   ],
   "source": [
    "elevation_data_100m = '../../datasets/elevation_raster_data/cities_california/elevation/elevation_100m.tif'\n",
    "output_dir = '../../datasets/elevation_raster_data/cities_california/elevation'\n",
    "\n",
    "resample_raster_based_on_ref_raster(input_raster=elevation_data_100m, \n",
    "                                    ref_raster=cities_california_8km_refraster, \n",
    "                                    output_dir=output_dir, raster_name='elevation_8km.tif', \n",
    "                                    resampling_alg=Resampling.bilinear)"
   ]
  },
  {
   "cell_type": "markdown",
   "id": "44667b9a",
   "metadata": {},
   "source": [
    "-------------------"
   ]
  },
  {
   "cell_type": "markdown",
   "id": "91d6c5a4",
   "metadata": {},
   "source": [
    "# Creating Slope + Aspect Data for Cities of California"
   ]
  },
  {
   "cell_type": "markdown",
   "id": "cd8c5782",
   "metadata": {},
   "source": [
    "## 1-2 Creating 100m slope and aspect rasters\n",
    "\n",
    "For `slope` and `aspect` data, the processing steps start from converting DEM data to slope and aspect.  "
   ]
  },
  {
   "cell_type": "code",
   "execution_count": 3,
   "id": "f92050f6",
   "metadata": {},
   "outputs": [],
   "source": [
    "elevation_data_100m = '../../datasets/elevation_raster_data/cities_california/elevation/elevation_100m.tif'\n",
    "slope_raster = '../../datasets/elevation_raster_data/cities_california/slope/slope_100m.tif'\n",
    "aspect_raster = '../../datasets/elevation_raster_data/cities_california/aspect/aspect_100m.tif'\n",
    "\n",
    "calculate_slope_aspect(dem_filepath=elevation_data_100m, slope_raster_fp=slope_raster, aspect_raster_fp=aspect_raster)"
   ]
  },
  {
   "cell_type": "code",
   "execution_count": 4,
   "id": "455a8369",
   "metadata": {},
   "outputs": [
    {
     "data": {
      "image/png": "[encoded data removed]",
      "text/plain": [
       "<Figure size 640x480 with 2 Axes>"
      ]
     },
     "metadata": {},
     "output_type": "display_data"
    }
   ],
   "source": [
    "slope_arr = rio.open(slope_raster).read(1)\n",
    "\n",
    "im = plt.imshow(slope_arr, cmap='RdYlGn_r', vmin=0, vmax=90)\n",
    "plt.grid()\n",
    "cbar = plt.colorbar(im)\n",
    "cbar.set_label('Slope in degrees')"
   ]
  },
  {
   "cell_type": "markdown",
   "id": "2b664b7b",
   "metadata": {},
   "source": [
    "## 3. Resampling 100m data to 4km\n",
    "\n",
    "For the 4km ARD and machine learning models (that uses 4km pixel datasets as input variables), we are resampling the slope and aspect data to 4km resolution."
   ]
  },
  {
   "cell_type": "code",
   "execution_count": 5,
   "id": "ba7c1bab",
   "metadata": {},
   "outputs": [
    {
     "data": {
      "text/plain": [
       "'../../datasets/elevation_raster_data/cities_california/slope/slope_4km.tif'"
      ]
     },
     "execution_count": 5,
     "metadata": {},
     "output_type": "execute_result"
    }
   ],
   "source": [
    "slope_data_100m = '../../datasets/elevation_raster_data/cities_california/slope/slope_100m.tif'\n",
    "output_dir = '../../datasets/elevation_raster_data/cities_california/slope'\n",
    "\n",
    "resample_raster_based_on_ref_raster(input_raster=slope_data_100m, \n",
    "                                    ref_raster=cities_california_4km_refraster, \n",
    "                                    output_dir=output_dir, raster_name='slope_4km.tif', \n",
    "                                    resampling_alg=Resampling.bilinear)"
   ]
  },
  {
   "cell_type": "code",
   "execution_count": 8,
   "id": "f70db570",
   "metadata": {},
   "outputs": [
    {
     "data": {
      "text/plain": [
       "'../../datasets/elevation_raster_data/cities_california/aspect/aspect_4km.tif'"
      ]
     },
     "execution_count": 8,
     "metadata": {},
     "output_type": "execute_result"
    }
   ],
   "source": [
    "aspect_data_100m = '../../datasets/elevation_raster_data/cities_california/aspect/aspect_100m.tif'\n",
    "output_dir = '../../datasets/elevation_raster_data/cities_california/aspect'\n",
    "\n",
    "resample_raster_based_on_ref_raster(input_raster=aspect_data_100m, \n",
    "                                    ref_raster=cities_california_4km_refraster, \n",
    "                                    output_dir=output_dir, raster_name='aspect_4km.tif', \n",
    "                                    resampling_alg=Resampling.bilinear)"
   ]
  },
  {
   "cell_type": "markdown",
   "id": "7d0d5827",
   "metadata": {},
   "source": [
    "## 4. Resampling 100m data to 8km\n",
    "The `total-precipitation` model was made for `8km` resolution datasets. And this particular model needed `8km` resolution slope and aspect data. Therefore, we resampled the 100m rasterized slope and aspect data to 8km resolution in this step."
   ]
  },
  {
   "cell_type": "code",
   "execution_count": 9,
   "id": "fb5089e0",
   "metadata": {},
   "outputs": [
    {
     "data": {
      "text/plain": [
       "'../../datasets/elevation_raster_data/cities_california/slope/slope_8km.tif'"
      ]
     },
     "execution_count": 9,
     "metadata": {},
     "output_type": "execute_result"
    }
   ],
   "source": [
    "slope_data_100m = '../../datasets/elevation_raster_data/cities_california/slope/slope_100m.tif'\n",
    "output_dir = '../../datasets/elevation_raster_data/cities_california/slope'\n",
    "\n",
    "resample_raster_based_on_ref_raster(input_raster=slope_data_100m, \n",
    "                                    ref_raster=cities_california_8km_refraster, \n",
    "                                    output_dir=output_dir, raster_name='slope_8km.tif', \n",
    "                                    resampling_alg=Resampling.bilinear)"
   ]
  },
  {
   "cell_type": "code",
   "execution_count": 11,
   "id": "9813bfef",
   "metadata": {},
   "outputs": [
    {
     "data": {
      "text/plain": [
       "'../../datasets/elevation_raster_data/cities_california/aspect/aspect_8km.tif'"
      ]
     },
     "execution_count": 11,
     "metadata": {},
     "output_type": "execute_result"
    }
   ],
   "source": [
    "aspect_data_100m = '../../datasets/elevation_raster_data/cities_california/aspect/aspect_100m.tif'\n",
    "output_dir = '../../datasets/elevation_raster_data/cities_california/aspect'\n",
    "\n",
    "resample_raster_based_on_ref_raster(input_raster=aspect_data_100m, \n",
    "                                    ref_raster=cities_california_8km_refraster, \n",
    "                                    output_dir=output_dir, raster_name='aspect_8km.tif', \n",
    "                                    resampling_alg=Resampling.bilinear)"
   ]
  },
  {
   "cell_type": "code",
   "execution_count": null,
   "id": "b296d370",
   "metadata": {},
   "outputs": [],
   "source": []
  }
 ],
 "metadata": {
  "kernelspec": {
   "display_name": "conda_python3",
   "language": "python",
   "name": "conda_python3"
  },
  "language_info": {
   "codemirror_mode": {
    "name": "ipython",
    "version": 3
   },
   "file_extension": ".py",
   "mimetype": "text/x-python",
   "name": "python",
   "nbconvert_exporter": "python",
   "pygments_lexer": "ipython3",
   "version": "3.10.10"
  }
 },
 "nbformat": 4,
 "nbformat_minor": 5
}
