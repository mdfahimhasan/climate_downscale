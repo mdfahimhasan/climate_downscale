{
 "cells": [
  {
   "cell_type": "markdown",
   "id": "8de2fa06",
   "metadata": {},
   "source": [
    "### Author: Md Fahim Hasan\n",
    "### Work Email: mdfahim.hasan@bayer.com"
   ]
  },
  {
   "cell_type": "markdown",
   "id": "c915964a",
   "metadata": {},
   "source": [
    "# Read me\n",
    "\n",
    "The weather `4km Analytical Ready Data (ARD)`s consists of the folowing datasets-\n",
    "  1. min temperature\n",
    "  2. max temperature\n",
    "  3. average temperature\n",
    "  4. average wind speed\n",
    "  5. average relative humidity\n",
    "  6. total precipitation (modeled or resampled) **\n",
    "  7. min relative humidity\n",
    "  8. max relative humidity\n",
    "  9. total net solar radiation\n",
    "\n",
    "From these variables, `1-6` will be interpolated/downscaled by ML/DL models from ERA5 28km spatial resolution to 4km resolution. Due to lack of observed (training) TWC data, variables `7-9` couldn't be interpolated by model, therefore, we will resample the data (bilinear resampling) to 4km spatial resolution. All these datasets will be converted to a dataframe/parquet/csv format with date, latitude, and longitude records to generate the ARDs.\n",
    "\n",
    "### __**Note:__\n",
    "- We have TWC high resolution data records starting from 2015-06-30 (for precipitation from 2015-12-01). We have modeled high resolution data from 2002 to 2023. Despite that, from 2015 we will use TWC high resolution data. Therefore, we will replace modeled data with TWC datasets from 2015 before compiling all datasets into the 4km ARD.\n",
    "- The precipitation model didn't perform well. So, we will see how the environmental cluster model performs with modeled precipitation `(V1)` and resampled (directly from ERA5) precipitation `(V2)`.\n",
    "- The 4km ARD versions will have data compiled (averaged for each date (month_day)) from 2002-2023. \n",
    "- The 4km ARD is processed for the whole ROI (part of Central valley, California).\n",
    "- The functions used in this script can be found in `ARD_utils.ipynb` script.\n",
    "- Used a model generated 4km resolution dataset (max_temperature) as the reference raster for resampling TWC High-Res precipitation data from 8km to 4km."
   ]
  },
  {
   "cell_type": "markdown",
   "id": "c719899e",
   "metadata": {},
   "source": [
    "## 4km ARD Processing Steps:\n",
    "\n",
    "The following steps are followed to compile 4km weather datasets into the ARD-\n",
    "1. __Copying 7-9 datasets to '../datasets/downscaled_data' directory:__ The `min relative humidity`, `max relative humidity`, and `total net solar radiation` datasets were not modeled. These datasets were resampled to 4km and will be directly integrated into the 4km ARD. \n",
    "2. __Resampling TWC Hi-Res Precipitation (8km) Data to 4km:__ Resampling TWC High-Res 8km Precipitation Data to 4km. This TWC dataset starts from 2015-12-01. We will replace modeled precipitation dataset with these high resolution dataset starting from 2015-12-01.\n",
    "3. __Replacing some modeled datasets with TWC datasets from 2015:__ We have TWC high resolution data records starting from 2015-06-30 (for precipitation from 2015-12-01). We have modeled high resolution data from 2002 to 2023 using ML/DL models. Despite that, from 2015 we will use TWC high resolution 4km data. Therefore, we will replace modeled data with TWC datasets from 2015 before compling all datasets into the 4km ARD.\n",
    "4. __Compiling weather datasets to multiple `preARD` dataframes:__ Weather datasets have extended daily records, therefore, compiling weather datasets into multiple dataframe (referring to as `preARD`). These `preARD` dataframes will be combined into a single dataframe and averaged to form the 4km weather ARD.\n",
    "5. __Generating weather ARD 4km:__ Compiling the `preARD` dataframes into a single dataframe. This single dataframe is our `4km resolution ARD`. In this final ARD, the datasets are average for each date `(month_day)` for all the years (2002-2023)."
   ]
  },
  {
   "cell_type": "markdown",
   "id": "58487466",
   "metadata": {},
   "source": [
    "----------------"
   ]
  },
  {
   "cell_type": "code",
   "execution_count": 1,
   "id": "1e28bee8",
   "metadata": {},
   "outputs": [],
   "source": [
    "from ipynb.fs.full.ARD_utils import *"
   ]
  },
  {
   "cell_type": "markdown",
   "id": "50275c31",
   "metadata": {},
   "source": [
    "# V1 (with modeled precipitation)"
   ]
  },
  {
   "cell_type": "markdown",
   "id": "22facc38",
   "metadata": {},
   "source": [
    "### 1. Copying `7-9` datasets to `'../datasets/downscaled_data'` directory"
   ]
  },
  {
   "cell_type": "code",
   "execution_count": 7,
   "id": "f2c9458e",
   "metadata": {},
   "outputs": [
    {
     "data": {
      "text/plain": [
       "'../../datasets/downscaled_data/4km/weather_data/resampled_4km/TotNet_SR/TotNet_SR_20050707.tif'"
      ]
     },
     "execution_count": 7,
     "metadata": {},
     "output_type": "execute_result"
    }
   ],
   "source": [
    "# copying min relative humidity dataset\n",
    "min_rel_humidity_dir = '../../datasets/weather_raster_data/cities_California/era5_data/resampled_4km_rasters_bilinear/min_Rhumid'\n",
    "min_rel_humidity_copy_dir =  '../../datasets/downscaled_data/4km/weather_data/resampled_4km/min_Rhumid'\n",
    "copy_file(input_dir_file=min_rel_humidity_dir, copy_dir=min_rel_humidity_copy_dir, search_by='*.tif')\n",
    "\n",
    "\n",
    "# copying max relative humidity dataset\n",
    "max_rel_humidity_dir = '../../datasets/weather_raster_data/cities_California/era5_data/resampled_4km_rasters_bilinear/max_Rhumid'\n",
    "max_rel_humidity_copy_dir = '../../datasets/downscaled_data/4km/weather_data/resampled_4km/max_Rhumid'\n",
    "copy_file(input_dir_file=max_rel_humidity_dir, copy_dir=max_rel_humidity_copy_dir, search_by='*.tif')\n",
    "\n",
    "\n",
    "# copying total net solar radiation dataset\n",
    "tot_net_SR_dir = '../../datasets/weather_raster_data/cities_California/era5_data/resampled_4km_rasters_bilinear/TotNet_SR'\n",
    "tot_net_SR_copy_dir = '../../datasets/downscaled_data/4km/weather_data/resampled_4km/TotNet_SR'\n",
    "copy_file(input_dir_file=tot_net_SR_dir, copy_dir=tot_net_SR_copy_dir, search_by='*.tif')"
   ]
  },
  {
   "cell_type": "markdown",
   "id": "b6c62ffe",
   "metadata": {},
   "source": [
    "### 2. Resampling TWC Hi-Res Precipitation (8km) Data to 4km \n",
    "Resampling TWC High-Res 8km Precipitation Data to 4km. This TWC dataset starts from 2015-12-01. We will replace modeled precipitation dataset with these high resolution dataset starting from 2015-12-01."
   ]
  },
  {
   "cell_type": "code",
   "execution_count": 8,
   "id": "0ed09ed5",
   "metadata": {},
   "outputs": [],
   "source": [
    "total_precip_8km_dir_twc = '../../datasets/weather_raster_data/cities_California/twc_data/precip_data_8km/total_precip'\n",
    "total_precip_4km_dir_twc = '../../datasets/weather_raster_data/cities_California/twc_data/resampled_precip_data_4km/total_precip'\n",
    "\n",
    "ref_raster = '../../datasets/downscaled_data/4km/weather_data/modeled_4km/max_temp/max_temp_20020101.tif'\n",
    "\n",
    "total_precip_8km_datasets = glob(os.path.join(total_precip_8km_dir_twc, '*.tif'))\n",
    "\n",
    "# Resampling TWC Hi-Res data from 8km to 4km\n",
    "for precip_data in total_precip_8km_datasets:\n",
    "    raster_name = os.path.basename(precip_data)\n",
    "    resample_raster_based_on_ref_raster(input_raster=precip_data, ref_raster=ref_raster, \n",
    "                                        output_dir=total_precip_4km_dir_twc, \n",
    "                                        raster_name=raster_name, resampling_alg=Resampling.bilinear,\n",
    "                                        paste_value_on_ref_raster=False)"
   ]
  },
  {
   "cell_type": "markdown",
   "id": "a146ce6f",
   "metadata": {},
   "source": [
    "### 3. Replacing some modeled datasets with TWC datasets from 2015\n",
    "We have TWC high resolution data records starting from 2015-06-30 (for precipitation from 2015-12-01). We have modeled high resolution data from 2002 to 2023. Despite that, from 2015 we will use TWC high resolution 4km data. Therefore, we will replace modeled data with TWC datasets from 2015 before compiling all datasets into the 4km ARD."
   ]
  },
  {
   "cell_type": "code",
   "execution_count": 9,
   "id": "0a763833",
   "metadata": {},
   "outputs": [
    {
     "data": {
      "text/plain": [
       "'../../datasets/downscaled_data/4km/weather_data/modeled_precipitation_resampled_4km/total_precip/total_precip_20181212.tif'"
      ]
     },
     "execution_count": 9,
     "metadata": {},
     "output_type": "execute_result"
    }
   ],
   "source": [
    "# TWC weather datasets\n",
    "max_temp_dir_twc = '../../datasets/weather_raster_data/cities_California/twc_data/weather_data_4km/max_temp'\n",
    "min_temp_dir_twc = '../../datasets/weather_raster_data/cities_California/twc_data/weather_data_4km/min_temp'\n",
    "avg_rel_humid_dir_twc = '../../datasets/weather_raster_data/cities_California/twc_data/weather_data_4km/avg_Rhumid'\n",
    "avg_wind_speed_dir_twc = '../../datasets/weather_raster_data/cities_California/twc_data/weather_data_4km/avg_wind_speed'\n",
    "precipitation_dir_twc = '../../datasets/weather_raster_data/cities_California/twc_data/resampled_precip_data_4km/total_precip'\n",
    "\n",
    "\n",
    "# model interpolated weather datasets \n",
    "max_temp_dir_modeled = '../../datasets/downscaled_data/4km/weather_data/modeled_4km/max_temp'\n",
    "min_temp_dir_modeled = '../../datasets/downscaled_data/4km/weather_data/modeled_4km/min_temp'\n",
    "avg_rel_humid_dir_modeled = '../../datasets/downscaled_data/4km/weather_data/modeled_4km/avg_Rhumid'\n",
    "avg_wind_speed_dir_modeled = '../../datasets/downscaled_data/4km/weather_data/modeled_4km/avg_wind_speed'\n",
    "precipitation_dir_modeled = '../../datasets/downscaled_data/4km/weather_data/modeled_precipitation_resampled_4km/total_precip'  # ML/DL model generated total_precip \n",
    "\n",
    "\n",
    "\n",
    "copy_file(input_dir_file=max_temp_dir_twc, copy_dir=max_temp_dir_modeled, search_by='*.tif')\n",
    "copy_file(input_dir_file=min_temp_dir_twc, copy_dir=min_temp_dir_modeled, search_by='*.tif')\n",
    "copy_file(input_dir_file=avg_rel_humid_dir_twc, copy_dir=avg_rel_humid_dir_modeled, search_by='*.tif')\n",
    "copy_file(input_dir_file=avg_wind_speed_dir_twc, copy_dir=avg_wind_speed_dir_modeled, search_by='*.tif')\n",
    "copy_file(input_dir_file=precipitation_dir_twc, copy_dir=precipitation_dir_modeled, search_by='*.tif')"
   ]
  },
  {
   "cell_type": "markdown",
   "id": "9d676d04",
   "metadata": {},
   "source": [
    "### 4. Compiling weather datasets to multiple `preARD` dataframes\n",
    "\n",
    "Weather datasets have extended daily records, therefore, compiling weather datasets into multiple dataframe (referring to as `preARD`). These `preARD` dataframes will be combined into a single dataframe and averaged to form the 4km weather ARD."
   ]
  },
  {
   "cell_type": "code",
   "execution_count": 2,
   "id": "96f5528e",
   "metadata": {},
   "outputs": [],
   "source": [
    "# model interpolated weather datasets (have TWC datasets from 2015)\n",
    "max_temp_dir = '../../datasets/downscaled_data/4km/weather_data/modeled_4km/max_temp'\n",
    "min_temp_dir = '../../datasets/downscaled_data/4km/weather_data/modeled_4km/min_temp'\n",
    "avg_temp_dir = '../../datasets/downscaled_data/4km/weather_data/modeled_4km/avg_temp'\n",
    "avg_rel_humid_dir = '../../datasets/downscaled_data/4km/weather_data/modeled_4km/avg_Rhumid'\n",
    "avg_wind_speed_dir = '../../datasets/downscaled_data/4km/weather_data/modeled_4km/avg_wind_speed'\n",
    "precipitation_dir = '../../datasets/downscaled_data/4km/weather_data/modeled_precipitation_resampled_4km/total_precip'  # ML/DL model generated total_precip + TWC High-Res resampled 4km precip from 2015\n",
    "\n",
    "\n",
    "# era5 resampled weather datasets\n",
    "min_rel_humidity_dir = '../../datasets/downscaled_data/4km/weather_data/resampled_4km/min_Rhumid'\n",
    "max_rel_humidity_dir = '../../datasets/downscaled_data/4km/weather_data/resampled_4km/max_Rhumid'\n",
    "total_net_SR_dir = '../../datasets/downscaled_data/4km/weather_data/resampled_4km/TotNet_SR'\n",
    "\n",
    "\n",
    "all_data_directories_v1 = [max_temp_dir, min_temp_dir, avg_temp_dir, avg_rel_humid_dir, avg_wind_speed_dir,\n",
    "                        precipitation_dir, min_rel_humidity_dir, max_rel_humidity_dir, total_net_SR_dir]"
   ]
  },
  {
   "cell_type": "code",
   "execution_count": 3,
   "id": "f5a8cca5",
   "metadata": {},
   "outputs": [
    {
     "data": {
      "text/plain": [
       "['../../datasets/downscaled_data/4km/weather_data/modeled_4km/max_temp',\n",
       " '../../datasets/downscaled_data/4km/weather_data/modeled_4km/min_temp',\n",
       " '../../datasets/downscaled_data/4km/weather_data/modeled_4km/avg_temp',\n",
       " '../../datasets/downscaled_data/4km/weather_data/modeled_4km/avg_Rhumid',\n",
       " '../../datasets/downscaled_data/4km/weather_data/modeled_4km/avg_wind_speed',\n",
       " '../../datasets/downscaled_data/4km/weather_data/modeled_precipitation_resampled_4km/total_precip',\n",
       " '../../datasets/downscaled_data/4km/weather_data/resampled_4km/min_Rhumid',\n",
       " '../../datasets/downscaled_data/4km/weather_data/resampled_4km/max_Rhumid',\n",
       " '../../datasets/downscaled_data/4km/weather_data/resampled_4km/TotNet_SR']"
      ]
     },
     "execution_count": 3,
     "metadata": {},
     "output_type": "execute_result"
    }
   ],
   "source": [
    "all_data_directories_v1"
   ]
  },
  {
   "cell_type": "code",
   "execution_count": 4,
   "id": "fcd3b0dd",
   "metadata": {},
   "outputs": [
    {
     "name": "stdout",
     "output_type": "stream",
     "text": [
      "compiling data for max_temp...\n",
      "compiling data for min_temp...\n",
      "compiling data for avg_Rhumid...\n",
      "compiling data for avg_wind_speed...\n",
      "compiling data for total_precip...\n",
      "compiling data for avg_temp...\n",
      "compiling data for min_Rhumid...\n",
      "compiling data for max_Rhumid...\n",
      "compiling data for TotNet_SR...\n"
     ]
    }
   ],
   "source": [
    "create_weather_4km_preARD_dataframes(data_directories_list=all_data_directories_v1, \n",
    "                                     output_folder='../../datasets/ARD/4km', savename='weather_4km_preARD_V1', \n",
    "                                     dataset_in_each_chunk=3)"
   ]
  },
  {
   "cell_type": "markdown",
   "id": "ffbe37c7",
   "metadata": {},
   "source": [
    "### 5. Generating weather ARD 4km\n",
    "Compiling the preARD dataframes into a single dataframe. This single dataframe is our `4km resolution ARD V1`."
   ]
  },
  {
   "cell_type": "code",
   "execution_count": 5,
   "id": "9521d851",
   "metadata": {},
   "outputs": [],
   "source": [
    "weather_ard_df_v1 = compile_preARD_multiDF_to_ARD(parquet_folder='../../datasets/ARD/4km/weather_4km_preARD_V1', \n",
    "                              output_folder='../../datasets/ARD/4km', savename='weather_4km_ARD_V1.parquet')"
   ]
  },
  {
   "cell_type": "code",
   "execution_count": 6,
   "id": "7c11bff7",
   "metadata": {},
   "outputs": [
    {
     "data": {
      "text/html": [
       "<div>\n",
       "<style scoped>\n",
       "    .dataframe tbody tr th:only-of-type {\n",
       "        vertical-align: middle;\n",
       "    }\n",
       "\n",
       "    .dataframe tbody tr th {\n",
       "        vertical-align: top;\n",
       "    }\n",
       "\n",
       "    .dataframe thead th {\n",
       "        text-align: right;\n",
       "    }\n",
       "</style>\n",
       "<table border=\"1\" class=\"dataframe\">\n",
       "  <thead>\n",
       "    <tr style=\"text-align: right;\">\n",
       "      <th></th>\n",
       "      <th>month_day</th>\n",
       "      <th>lat</th>\n",
       "      <th>lon</th>\n",
       "      <th>max_temp</th>\n",
       "      <th>min_temp</th>\n",
       "      <th>avg_Rhumid</th>\n",
       "      <th>avg_wind_speed</th>\n",
       "      <th>total_precip</th>\n",
       "      <th>avg_temp</th>\n",
       "      <th>min_Rhumid</th>\n",
       "      <th>max_Rhumid</th>\n",
       "      <th>TotNet_SR</th>\n",
       "    </tr>\n",
       "  </thead>\n",
       "  <tbody>\n",
       "    <tr>\n",
       "      <th>0</th>\n",
       "      <td>01_01</td>\n",
       "      <td>35.813145</td>\n",
       "      <td>-119.858718</td>\n",
       "      <td>13.064774</td>\n",
       "      <td>2.556032</td>\n",
       "      <td>76.720100</td>\n",
       "      <td>6.198810</td>\n",
       "      <td>1.368499</td>\n",
       "      <td>8.057868</td>\n",
       "      <td>43.226334</td>\n",
       "      <td>86.756714</td>\n",
       "      <td>7.763757</td>\n",
       "    </tr>\n",
       "    <tr>\n",
       "      <th>1</th>\n",
       "      <td>01_01</td>\n",
       "      <td>35.813145</td>\n",
       "      <td>-119.822718</td>\n",
       "      <td>13.107390</td>\n",
       "      <td>2.549996</td>\n",
       "      <td>77.720039</td>\n",
       "      <td>5.814856</td>\n",
       "      <td>1.317763</td>\n",
       "      <td>8.107609</td>\n",
       "      <td>43.714951</td>\n",
       "      <td>86.954338</td>\n",
       "      <td>7.735141</td>\n",
       "    </tr>\n",
       "    <tr>\n",
       "      <th>2</th>\n",
       "      <td>01_01</td>\n",
       "      <td>35.813145</td>\n",
       "      <td>-119.786718</td>\n",
       "      <td>13.126426</td>\n",
       "      <td>2.521558</td>\n",
       "      <td>78.263412</td>\n",
       "      <td>5.647069</td>\n",
       "      <td>1.269205</td>\n",
       "      <td>8.155430</td>\n",
       "      <td>43.871330</td>\n",
       "      <td>87.074242</td>\n",
       "      <td>7.708403</td>\n",
       "    </tr>\n",
       "    <tr>\n",
       "      <th>3</th>\n",
       "      <td>01_01</td>\n",
       "      <td>35.813145</td>\n",
       "      <td>-119.750718</td>\n",
       "      <td>13.140491</td>\n",
       "      <td>2.656670</td>\n",
       "      <td>78.713570</td>\n",
       "      <td>5.349788</td>\n",
       "      <td>1.226165</td>\n",
       "      <td>8.125828</td>\n",
       "      <td>43.934681</td>\n",
       "      <td>87.172386</td>\n",
       "      <td>7.682190</td>\n",
       "    </tr>\n",
       "    <tr>\n",
       "      <th>4</th>\n",
       "      <td>01_01</td>\n",
       "      <td>35.813145</td>\n",
       "      <td>-119.714718</td>\n",
       "      <td>13.156439</td>\n",
       "      <td>2.594357</td>\n",
       "      <td>79.098198</td>\n",
       "      <td>5.344284</td>\n",
       "      <td>1.190915</td>\n",
       "      <td>8.106210</td>\n",
       "      <td>43.998032</td>\n",
       "      <td>87.270538</td>\n",
       "      <td>7.655977</td>\n",
       "    </tr>\n",
       "    <tr>\n",
       "      <th>...</th>\n",
       "      <td>...</td>\n",
       "      <td>...</td>\n",
       "      <td>...</td>\n",
       "      <td>...</td>\n",
       "      <td>...</td>\n",
       "      <td>...</td>\n",
       "      <td>...</td>\n",
       "      <td>...</td>\n",
       "      <td>...</td>\n",
       "      <td>...</td>\n",
       "      <td>...</td>\n",
       "      <td>...</td>\n",
       "    </tr>\n",
       "    <tr>\n",
       "      <th>556681</th>\n",
       "      <td>12_31</td>\n",
       "      <td>39.377145</td>\n",
       "      <td>-122.054718</td>\n",
       "      <td>13.111296</td>\n",
       "      <td>3.358657</td>\n",
       "      <td>71.012802</td>\n",
       "      <td>12.695121</td>\n",
       "      <td>3.108317</td>\n",
       "      <td>8.476252</td>\n",
       "      <td>38.840889</td>\n",
       "      <td>82.934311</td>\n",
       "      <td>7.148525</td>\n",
       "    </tr>\n",
       "    <tr>\n",
       "      <th>556682</th>\n",
       "      <td>12_31</td>\n",
       "      <td>39.377145</td>\n",
       "      <td>-122.018718</td>\n",
       "      <td>13.013983</td>\n",
       "      <td>3.376590</td>\n",
       "      <td>71.864647</td>\n",
       "      <td>12.712395</td>\n",
       "      <td>3.204798</td>\n",
       "      <td>8.512499</td>\n",
       "      <td>39.712254</td>\n",
       "      <td>83.251572</td>\n",
       "      <td>7.131769</td>\n",
       "    </tr>\n",
       "    <tr>\n",
       "      <th>556683</th>\n",
       "      <td>12_31</td>\n",
       "      <td>39.377145</td>\n",
       "      <td>-121.982718</td>\n",
       "      <td>12.994287</td>\n",
       "      <td>3.301607</td>\n",
       "      <td>72.312447</td>\n",
       "      <td>12.550989</td>\n",
       "      <td>3.305635</td>\n",
       "      <td>8.422517</td>\n",
       "      <td>40.583618</td>\n",
       "      <td>83.568840</td>\n",
       "      <td>7.115013</td>\n",
       "    </tr>\n",
       "    <tr>\n",
       "      <th>556684</th>\n",
       "      <td>12_31</td>\n",
       "      <td>39.377145</td>\n",
       "      <td>-121.946718</td>\n",
       "      <td>12.966456</td>\n",
       "      <td>3.310997</td>\n",
       "      <td>72.618156</td>\n",
       "      <td>12.385925</td>\n",
       "      <td>3.326128</td>\n",
       "      <td>8.344420</td>\n",
       "      <td>41.454987</td>\n",
       "      <td>83.886108</td>\n",
       "      <td>7.098257</td>\n",
       "    </tr>\n",
       "    <tr>\n",
       "      <th>556685</th>\n",
       "      <td>12_31</td>\n",
       "      <td>39.377145</td>\n",
       "      <td>-121.910718</td>\n",
       "      <td>12.920015</td>\n",
       "      <td>3.277704</td>\n",
       "      <td>73.235123</td>\n",
       "      <td>12.123603</td>\n",
       "      <td>3.304960</td>\n",
       "      <td>8.315034</td>\n",
       "      <td>42.326351</td>\n",
       "      <td>84.203377</td>\n",
       "      <td>7.081501</td>\n",
       "    </tr>\n",
       "  </tbody>\n",
       "</table>\n",
       "<p>556686 rows × 12 columns</p>\n",
       "</div>"
      ],
      "text/plain": [
       "       month_day        lat         lon   max_temp  min_temp  avg_Rhumid   \n",
       "0          01_01  35.813145 -119.858718  13.064774  2.556032   76.720100  \\\n",
       "1          01_01  35.813145 -119.822718  13.107390  2.549996   77.720039   \n",
       "2          01_01  35.813145 -119.786718  13.126426  2.521558   78.263412   \n",
       "3          01_01  35.813145 -119.750718  13.140491  2.656670   78.713570   \n",
       "4          01_01  35.813145 -119.714718  13.156439  2.594357   79.098198   \n",
       "...          ...        ...         ...        ...       ...         ...   \n",
       "556681     12_31  39.377145 -122.054718  13.111296  3.358657   71.012802   \n",
       "556682     12_31  39.377145 -122.018718  13.013983  3.376590   71.864647   \n",
       "556683     12_31  39.377145 -121.982718  12.994287  3.301607   72.312447   \n",
       "556684     12_31  39.377145 -121.946718  12.966456  3.310997   72.618156   \n",
       "556685     12_31  39.377145 -121.910718  12.920015  3.277704   73.235123   \n",
       "\n",
       "        avg_wind_speed  total_precip  avg_temp  min_Rhumid  max_Rhumid   \n",
       "0             6.198810      1.368499  8.057868   43.226334   86.756714  \\\n",
       "1             5.814856      1.317763  8.107609   43.714951   86.954338   \n",
       "2             5.647069      1.269205  8.155430   43.871330   87.074242   \n",
       "3             5.349788      1.226165  8.125828   43.934681   87.172386   \n",
       "4             5.344284      1.190915  8.106210   43.998032   87.270538   \n",
       "...                ...           ...       ...         ...         ...   \n",
       "556681       12.695121      3.108317  8.476252   38.840889   82.934311   \n",
       "556682       12.712395      3.204798  8.512499   39.712254   83.251572   \n",
       "556683       12.550989      3.305635  8.422517   40.583618   83.568840   \n",
       "556684       12.385925      3.326128  8.344420   41.454987   83.886108   \n",
       "556685       12.123603      3.304960  8.315034   42.326351   84.203377   \n",
       "\n",
       "        TotNet_SR  \n",
       "0        7.763757  \n",
       "1        7.735141  \n",
       "2        7.708403  \n",
       "3        7.682190  \n",
       "4        7.655977  \n",
       "...           ...  \n",
       "556681   7.148525  \n",
       "556682   7.131769  \n",
       "556683   7.115013  \n",
       "556684   7.098257  \n",
       "556685   7.081501  \n",
       "\n",
       "[556686 rows x 12 columns]"
      ]
     },
     "execution_count": 6,
     "metadata": {},
     "output_type": "execute_result"
    }
   ],
   "source": [
    "weather_ard_df_v1"
   ]
  },
  {
   "cell_type": "code",
   "execution_count": 25,
   "id": "e84e9efa",
   "metadata": {},
   "outputs": [
    {
     "data": {
      "text/plain": [
       "1521"
      ]
     },
     "execution_count": 25,
     "metadata": {},
     "output_type": "execute_result"
    }
   ],
   "source": [
    "## number of records in a particulat month_day\n",
    "single_day_df = weather_ard_df_v1[weather_ard_df_v1['month_day']=='01_02']\n",
    "len(single_day_df)"
   ]
  },
  {
   "cell_type": "markdown",
   "id": "756fb28e",
   "metadata": {},
   "source": [
    "`For a single mm_dd, there are 1521 rows of record each having 4km pixel size.`"
   ]
  },
  {
   "cell_type": "markdown",
   "id": "f62ed85b",
   "metadata": {},
   "source": [
    "--------------------------"
   ]
  },
  {
   "cell_type": "markdown",
   "id": "478b2e7c",
   "metadata": {},
   "source": [
    "------------------------"
   ]
  },
  {
   "cell_type": "markdown",
   "id": "51523aa3",
   "metadata": {},
   "source": [
    "# V2 (with resampled precipitation)\n",
    "\n",
    "As the precipitation model didn't perform well, we will use resampled (directly from 28km ERA5 data to 4km) precipitation data in the ARD and observe environmental clustering model performance."
   ]
  },
  {
   "cell_type": "markdown",
   "id": "4ff51ac2",
   "metadata": {},
   "source": [
    "### 1. Copying `6-9` datasets to `'../datasets/downscaled_data'` directory"
   ]
  },
  {
   "cell_type": "code",
   "execution_count": 8,
   "id": "ed841ff0",
   "metadata": {},
   "outputs": [
    {
     "data": {
      "text/plain": [
       "'../../datasets/downscaled_data/4km/weather_data/resampled_4km/total_precip/total_precip_20181212.tif'"
      ]
     },
     "execution_count": 8,
     "metadata": {},
     "output_type": "execute_result"
    }
   ],
   "source": [
    "# copying min relative humidity dataset\n",
    "min_rel_humidity_dir = '../../datasets/weather_raster_data/cities_California/era5_data/resampled_4km_rasters_bilinear/min_Rhumid'\n",
    "min_rel_humidity_copy_dir =  '../../datasets/downscaled_data/4km/weather_data/resampled_4km/min_Rhumid'\n",
    "copy_file(input_dir_file=min_rel_humidity_dir, copy_dir=min_rel_humidity_copy_dir, search_by='*.tif')\n",
    "\n",
    "\n",
    "# copying max relative humidity dataset\n",
    "max_rel_humidity_dir = '../../datasets/weather_raster_data/cities_California/era5_data/resampled_4km_rasters_bilinear/max_Rhumid'\n",
    "max_rel_humidity_copy_dir = '../../datasets/downscaled_data/4km/weather_data/resampled_4km/max_Rhumid'\n",
    "copy_file(input_dir_file=max_rel_humidity_dir, copy_dir=max_rel_humidity_copy_dir, search_by='*.tif')\n",
    "\n",
    "\n",
    "# copying total net solar radiation dataset\n",
    "tot_net_SR_dir = '../../datasets/weather_raster_data/cities_California/era5_data/resampled_4km_rasters_bilinear/TotNet_SR'\n",
    "tot_net_SR_copy_dir = '../../datasets/downscaled_data/4km/weather_data/resampled_4km/TotNet_SR'\n",
    "copy_file(input_dir_file=tot_net_SR_dir, copy_dir=tot_net_SR_copy_dir, search_by='*.tif')\n",
    "\n",
    "\n",
    "# copying total precipitataion (resampled from ERA5) dataset\n",
    "total_precip_dir = '../../datasets/weather_raster_data/cities_California/era5_data/resampled_4km_rasters_bilinear/total_precip'\n",
    "total_precip_copy_dir = '../../datasets/downscaled_data/4km/weather_data/resampled_4km/total_precip'\n",
    "copy_file(input_dir_file=total_precip_dir, copy_dir=total_precip_copy_dir, search_by='*.tif')"
   ]
  },
  {
   "cell_type": "markdown",
   "id": "3ea937de",
   "metadata": {},
   "source": [
    "### 2. Resampling TWC Hi-Res Precipitation (8km) Data to 4km \n",
    "Resampling TWC High-Res 8km Precipitation Data to 4km. This TWC dataset starts from 2015-12-01. We will replace modeled precipitation dataset with these high resolution dataset starting from 2015-12-01.\n",
    "\n",
    "This step was already performed for V1 data. Commenting it out"
   ]
  },
  {
   "cell_type": "code",
   "execution_count": null,
   "id": "f0bf6311",
   "metadata": {},
   "outputs": [],
   "source": [
    "# total_precip_8km_dir_twc = '../../datasets/weather_raster_data/cities_California/twc_data/precip_data_8km/total_precip'\n",
    "# total_precip_4km_dir_twc = '../../datasets/weather_raster_data/cities_California/twc_data/resampled_precip_data_4km/total_precip'\n",
    "\n",
    "# ref_raster = '../../datasets/downscaled_data/4km/weather_data/modeled_4km/max_temp/max_temp_20020101.tif'\n",
    "\n",
    "# total_precip_8km_datasets = glob(os.path.join(total_precip_8km_dir_twc, '*.tif'))\n",
    "\n",
    "# # Resampling TWC Hi-Res data from 8km to 4km\n",
    "# for precip_data in total_precip_8km_datasets:\n",
    "#     raster_name = os.path.basename(precip_data)\n",
    "#     resample_raster_based_on_ref_raster(input_raster=precip_data, ref_raster=ref_raster, \n",
    "#                                         output_dir=total_precip_4km_dir_twc, \n",
    "#                                         raster_name=raster_name, resampling_alg=Resampling.bilinear,\n",
    "#                                         paste_value_on_ref_raster=False)"
   ]
  },
  {
   "cell_type": "markdown",
   "id": "cff18ea6",
   "metadata": {},
   "source": [
    "### 3. Replacing some modeled datasets with TWC datasets from 2015\n",
    "We have TWC high resolution data records starting from 2015-06-30 (for precipitation from 2015-12-01). We have modeled high resolution data from 2002 to 2023. Despite that, from 2015 we will use TWC high resolution 4km data. Therefore, we will replace modeled data with TWC datasets from 2015 before compiling all datasets into the 4km ARD.\n",
    "\n",
    "We already copied `max_temp`, `min_temp`, `avg_rel_humidity`, and `avg_wind_speed` TWC data to modeled data folder in V1 ARD procesing. Commenting Out those steps in the following block. Only copying resampled 4km TWC High-Res Precipitation data to resampled ERA5 Precipitation folder."
   ]
  },
  {
   "cell_type": "code",
   "execution_count": 7,
   "id": "77fed602",
   "metadata": {},
   "outputs": [
    {
     "data": {
      "text/plain": [
       "'../../datasets/downscaled_data/4km/weather_data/resampled_4km/total_precip/total_precip_20181212.tif'"
      ]
     },
     "execution_count": 7,
     "metadata": {},
     "output_type": "execute_result"
    }
   ],
   "source": [
    "# TWC weather datasets\n",
    "# max_temp_dir_twc = '../../datasets/weather_raster_data/cities_California/twc_data/weather_data_4km/max_temp'\n",
    "# min_temp_dir_twc = '../../datasets/weather_raster_data/cities_California/twc_data/weather_data_4km/min_temp'\n",
    "# avg_rel_humid_dir_twc = '../../datasets/weather_raster_data/cities_California/twc_data/weather_data_4km/avg_Rhumid'\n",
    "# avg_wind_speed_dir_twc = '../../datasets/weather_raster_data/cities_California/twc_data/weather_data_4km/avg_wind_speed'\n",
    "precipitation_dir_twc = '../../datasets/weather_raster_data/cities_California/twc_data/resampled_precip_data_4km/total_precip'\n",
    "\n",
    "\n",
    "# model interpolated weather datasets\n",
    "# max_temp_dir_modeled = '../../datasets/downscaled_data/4km/weather_data/modeled_4km/max_temp'\n",
    "# min_temp_dir_modeled = '../../datasets/downscaled_data/4km/weather_data/modeled_4km/min_temp'\n",
    "# avg_rel_humid_dir_modeled = '../../datasets/downscaled_data/4km/weather_data/modeled_4km/avg_Rhumid'\n",
    "# avg_wind_speed_dir_modeled = '../../datasets/downscaled_data/4km/weather_data/modeled_4km/avg_wind_speed'\n",
    "\n",
    "## ERA5 resampled precipitation folder\n",
    "precipitation_dir_era5_resampled = '../../datasets/downscaled_data/4km/weather_data/resampled_4km/total_precip'  # era5 resampled total_precip (2002-2015) + TWC resampled precip after 2015 \n",
    "\n",
    "\n",
    "\n",
    "# copy_file(input_dir_file=max_temp_dir_twc, copy_dir=max_temp_dir_modeled, search_by='*.tif')\n",
    "# copy_file(input_dir_file=min_temp_dir_twc, copy_dir=min_temp_dir_modeled, search_by='*.tif')\n",
    "# copy_file(input_dir_file=avg_rel_humid_dir_twc, copy_dir=avg_rel_humid_dir_modeled, search_by='*.tif')\n",
    "# copy_file(input_dir_file=avg_wind_speed_dir_twc, copy_dir=avg_wind_speed_dir_modeled, search_by='*.tif')\n",
    "copy_file(input_dir_file=precipitation_dir_twc, copy_dir=precipitation_dir_era5_resampled, search_by='*.tif')"
   ]
  },
  {
   "cell_type": "markdown",
   "id": "45a5b384",
   "metadata": {},
   "source": [
    "### 4. Compiling weather datasets to multiple `preARD` dataframes\n",
    "\n",
    "Weather datasets have extended daily records, therefore, compiling weather datasets into multiple dataframe (referring to as `preARD`. These `preARD` dataframes will be combined into a single dataframe and averaged to form the 4km weather ARD."
   ]
  },
  {
   "cell_type": "code",
   "execution_count": 8,
   "id": "a3a9595a",
   "metadata": {},
   "outputs": [],
   "source": [
    "# model interpolated weather datasets (have TWC datasets from 2015)\n",
    "max_temp_dir = '../../datasets/downscaled_data/4km/weather_data/modeled_4km/max_temp'\n",
    "min_temp_dir = '../../datasets/downscaled_data/4km/weather_data/modeled_4km/min_temp'\n",
    "avg_temp_dir = '../../datasets/downscaled_data/4km/weather_data/modeled_4km/avg_temp'\n",
    "avg_rel_humid_dir = '../../datasets/downscaled_data/4km/weather_data/modeled_4km/avg_Rhumid'\n",
    "avg_wind_speed_dir = '../../datasets/downscaled_data/4km/weather_data/modeled_4km/avg_wind_speed'\n",
    "\n",
    "\n",
    "# era5 resampled weather datasets\n",
    "min_rel_humidity_dir = '../../datasets/downscaled_data/4km/weather_data/resampled_4km/min_Rhumid'\n",
    "max_rel_humidity_dir = '../../datasets/downscaled_data/4km/weather_data/resampled_4km/max_Rhumid'\n",
    "total_net_SR_dir = '../../datasets/downscaled_data/4km/weather_data/resampled_4km/TotNet_SR'\n",
    "precipitation_dir = '../../datasets/downscaled_data/4km/weather_data/resampled_4km/total_precip'  ###### resampled total_precip (not ML/DL model interpolated) + TWC High-Res resampled 4km precip from 2015\n",
    "\n",
    "\n",
    "all_data_directories_v2 = [max_temp_dir, min_temp_dir, avg_temp_dir, avg_rel_humid_dir, avg_wind_speed_dir,\n",
    "                        min_rel_humidity_dir, max_rel_humidity_dir, total_net_SR_dir, precipitation_dir]"
   ]
  },
  {
   "cell_type": "code",
   "execution_count": 9,
   "id": "73793d0e",
   "metadata": {},
   "outputs": [
    {
     "data": {
      "text/plain": [
       "['../../datasets/downscaled_data/4km/weather_data/modeled_4km/max_temp',\n",
       " '../../datasets/downscaled_data/4km/weather_data/modeled_4km/min_temp',\n",
       " '../../datasets/downscaled_data/4km/weather_data/modeled_4km/avg_temp',\n",
       " '../../datasets/downscaled_data/4km/weather_data/modeled_4km/avg_Rhumid',\n",
       " '../../datasets/downscaled_data/4km/weather_data/modeled_4km/avg_wind_speed',\n",
       " '../../datasets/downscaled_data/4km/weather_data/resampled_4km/min_Rhumid',\n",
       " '../../datasets/downscaled_data/4km/weather_data/resampled_4km/max_Rhumid',\n",
       " '../../datasets/downscaled_data/4km/weather_data/resampled_4km/TotNet_SR',\n",
       " '../../datasets/downscaled_data/4km/weather_data/resampled_4km/total_precip']"
      ]
     },
     "execution_count": 9,
     "metadata": {},
     "output_type": "execute_result"
    }
   ],
   "source": [
    "all_data_directories_v2"
   ]
  },
  {
   "cell_type": "code",
   "execution_count": 10,
   "id": "39003528",
   "metadata": {},
   "outputs": [
    {
     "name": "stdout",
     "output_type": "stream",
     "text": [
      "compiling data for max_temp...\n",
      "compiling data for min_temp...\n",
      "compiling data for avg_Rhumid...\n",
      "compiling data for avg_wind_speed...\n",
      "compiling data for total_precip...\n",
      "compiling data for avg_temp...\n",
      "compiling data for min_Rhumid...\n",
      "compiling data for max_Rhumid...\n",
      "compiling data for TotNet_SR...\n"
     ]
    }
   ],
   "source": [
    "create_weather_4km_preARD_dataframes(data_directories_list=all_data_directories_v2, \n",
    "                                     output_folder='../../datasets/ARD/4km', savename='weather_4km_preARD_V2', \n",
    "                                     dataset_in_each_chunk=3)"
   ]
  },
  {
   "cell_type": "markdown",
   "id": "f0884eab",
   "metadata": {},
   "source": [
    "### 5. Generating weather ARD 4km\n",
    "Compiling the preARD dataframes into a single dataframe. This single dataframe is our `4km resolution ARD V2`."
   ]
  },
  {
   "cell_type": "code",
   "execution_count": 11,
   "id": "1708af27",
   "metadata": {},
   "outputs": [],
   "source": [
    "weather_ard_df_v2 = compile_preARD_multiDF_to_ARD(parquet_folder='../../datasets/ARD/4km/weather_4km_preARD_V2', \n",
    "                              output_folder='../../datasets/ARD/4km', savename='weather_4km_ARD_V2.parquet')"
   ]
  },
  {
   "cell_type": "code",
   "execution_count": 12,
   "id": "07bdfc70",
   "metadata": {},
   "outputs": [
    {
     "data": {
      "text/html": [
       "<div>\n",
       "<style scoped>\n",
       "    .dataframe tbody tr th:only-of-type {\n",
       "        vertical-align: middle;\n",
       "    }\n",
       "\n",
       "    .dataframe tbody tr th {\n",
       "        vertical-align: top;\n",
       "    }\n",
       "\n",
       "    .dataframe thead th {\n",
       "        text-align: right;\n",
       "    }\n",
       "</style>\n",
       "<table border=\"1\" class=\"dataframe\">\n",
       "  <thead>\n",
       "    <tr style=\"text-align: right;\">\n",
       "      <th></th>\n",
       "      <th>month_day</th>\n",
       "      <th>lat</th>\n",
       "      <th>lon</th>\n",
       "      <th>max_temp</th>\n",
       "      <th>min_temp</th>\n",
       "      <th>avg_Rhumid</th>\n",
       "      <th>avg_wind_speed</th>\n",
       "      <th>total_precip</th>\n",
       "      <th>avg_temp</th>\n",
       "      <th>min_Rhumid</th>\n",
       "      <th>max_Rhumid</th>\n",
       "      <th>TotNet_SR</th>\n",
       "    </tr>\n",
       "  </thead>\n",
       "  <tbody>\n",
       "    <tr>\n",
       "      <th>0</th>\n",
       "      <td>01_01</td>\n",
       "      <td>35.813145</td>\n",
       "      <td>-119.858718</td>\n",
       "      <td>13.064774</td>\n",
       "      <td>2.556032</td>\n",
       "      <td>76.720100</td>\n",
       "      <td>6.198810</td>\n",
       "      <td>1.415220</td>\n",
       "      <td>8.057868</td>\n",
       "      <td>43.226334</td>\n",
       "      <td>86.756714</td>\n",
       "      <td>7.763757</td>\n",
       "    </tr>\n",
       "    <tr>\n",
       "      <th>1</th>\n",
       "      <td>01_01</td>\n",
       "      <td>35.813145</td>\n",
       "      <td>-119.822718</td>\n",
       "      <td>13.107390</td>\n",
       "      <td>2.549996</td>\n",
       "      <td>77.720039</td>\n",
       "      <td>5.814856</td>\n",
       "      <td>1.341458</td>\n",
       "      <td>8.107609</td>\n",
       "      <td>43.714951</td>\n",
       "      <td>86.954338</td>\n",
       "      <td>7.735141</td>\n",
       "    </tr>\n",
       "    <tr>\n",
       "      <th>2</th>\n",
       "      <td>01_01</td>\n",
       "      <td>35.813145</td>\n",
       "      <td>-119.786718</td>\n",
       "      <td>13.126426</td>\n",
       "      <td>2.521558</td>\n",
       "      <td>78.263412</td>\n",
       "      <td>5.647069</td>\n",
       "      <td>1.292602</td>\n",
       "      <td>8.155430</td>\n",
       "      <td>43.871330</td>\n",
       "      <td>87.074242</td>\n",
       "      <td>7.708403</td>\n",
       "    </tr>\n",
       "    <tr>\n",
       "      <th>3</th>\n",
       "      <td>01_01</td>\n",
       "      <td>35.813145</td>\n",
       "      <td>-119.750718</td>\n",
       "      <td>13.140491</td>\n",
       "      <td>2.656670</td>\n",
       "      <td>78.713570</td>\n",
       "      <td>5.349788</td>\n",
       "      <td>1.253974</td>\n",
       "      <td>8.125828</td>\n",
       "      <td>43.934681</td>\n",
       "      <td>87.172386</td>\n",
       "      <td>7.682190</td>\n",
       "    </tr>\n",
       "    <tr>\n",
       "      <th>4</th>\n",
       "      <td>01_01</td>\n",
       "      <td>35.813145</td>\n",
       "      <td>-119.714718</td>\n",
       "      <td>13.156439</td>\n",
       "      <td>2.594357</td>\n",
       "      <td>79.098198</td>\n",
       "      <td>5.344284</td>\n",
       "      <td>1.219387</td>\n",
       "      <td>8.106210</td>\n",
       "      <td>43.998032</td>\n",
       "      <td>87.270538</td>\n",
       "      <td>7.655977</td>\n",
       "    </tr>\n",
       "    <tr>\n",
       "      <th>...</th>\n",
       "      <td>...</td>\n",
       "      <td>...</td>\n",
       "      <td>...</td>\n",
       "      <td>...</td>\n",
       "      <td>...</td>\n",
       "      <td>...</td>\n",
       "      <td>...</td>\n",
       "      <td>...</td>\n",
       "      <td>...</td>\n",
       "      <td>...</td>\n",
       "      <td>...</td>\n",
       "      <td>...</td>\n",
       "    </tr>\n",
       "    <tr>\n",
       "      <th>563635</th>\n",
       "      <td>12_31</td>\n",
       "      <td>39.377145</td>\n",
       "      <td>-121.910718</td>\n",
       "      <td>12.920015</td>\n",
       "      <td>3.277704</td>\n",
       "      <td>73.235123</td>\n",
       "      <td>12.123603</td>\n",
       "      <td>3.627121</td>\n",
       "      <td>8.315034</td>\n",
       "      <td>42.326351</td>\n",
       "      <td>84.203377</td>\n",
       "      <td>7.081501</td>\n",
       "    </tr>\n",
       "    <tr>\n",
       "      <th>563636</th>\n",
       "      <td>12_31</td>\n",
       "      <td>39.413145</td>\n",
       "      <td>-122.126718</td>\n",
       "      <td>12.778427</td>\n",
       "      <td>3.334260</td>\n",
       "      <td>70.784737</td>\n",
       "      <td>11.975956</td>\n",
       "      <td>2.754346</td>\n",
       "      <td>8.021772</td>\n",
       "      <td>40.393192</td>\n",
       "      <td>82.094841</td>\n",
       "      <td>7.157553</td>\n",
       "    </tr>\n",
       "    <tr>\n",
       "      <th>563637</th>\n",
       "      <td>12_31</td>\n",
       "      <td>39.413145</td>\n",
       "      <td>-122.090718</td>\n",
       "      <td>12.671306</td>\n",
       "      <td>3.222568</td>\n",
       "      <td>71.297905</td>\n",
       "      <td>12.386173</td>\n",
       "      <td>2.702650</td>\n",
       "      <td>7.976338</td>\n",
       "      <td>40.296097</td>\n",
       "      <td>82.996353</td>\n",
       "      <td>7.175453</td>\n",
       "    </tr>\n",
       "    <tr>\n",
       "      <th>563638</th>\n",
       "      <td>12_31</td>\n",
       "      <td>39.413145</td>\n",
       "      <td>-122.054718</td>\n",
       "      <td>12.740860</td>\n",
       "      <td>3.307436</td>\n",
       "      <td>71.610085</td>\n",
       "      <td>12.684472</td>\n",
       "      <td>2.705669</td>\n",
       "      <td>8.043331</td>\n",
       "      <td>40.397404</td>\n",
       "      <td>83.751907</td>\n",
       "      <td>7.184686</td>\n",
       "    </tr>\n",
       "    <tr>\n",
       "      <th>563639</th>\n",
       "      <td>12_31</td>\n",
       "      <td>39.413145</td>\n",
       "      <td>-122.018718</td>\n",
       "      <td>12.800445</td>\n",
       "      <td>3.491661</td>\n",
       "      <td>72.239059</td>\n",
       "      <td>12.607451</td>\n",
       "      <td>2.904096</td>\n",
       "      <td>8.068064</td>\n",
       "      <td>41.207329</td>\n",
       "      <td>83.986137</td>\n",
       "      <td>7.162969</td>\n",
       "    </tr>\n",
       "  </tbody>\n",
       "</table>\n",
       "<p>563640 rows × 12 columns</p>\n",
       "</div>"
      ],
      "text/plain": [
       "       month_day        lat         lon   max_temp  min_temp  avg_Rhumid   \n",
       "0          01_01  35.813145 -119.858718  13.064774  2.556032   76.720100  \\\n",
       "1          01_01  35.813145 -119.822718  13.107390  2.549996   77.720039   \n",
       "2          01_01  35.813145 -119.786718  13.126426  2.521558   78.263412   \n",
       "3          01_01  35.813145 -119.750718  13.140491  2.656670   78.713570   \n",
       "4          01_01  35.813145 -119.714718  13.156439  2.594357   79.098198   \n",
       "...          ...        ...         ...        ...       ...         ...   \n",
       "563635     12_31  39.377145 -121.910718  12.920015  3.277704   73.235123   \n",
       "563636     12_31  39.413145 -122.126718  12.778427  3.334260   70.784737   \n",
       "563637     12_31  39.413145 -122.090718  12.671306  3.222568   71.297905   \n",
       "563638     12_31  39.413145 -122.054718  12.740860  3.307436   71.610085   \n",
       "563639     12_31  39.413145 -122.018718  12.800445  3.491661   72.239059   \n",
       "\n",
       "        avg_wind_speed  total_precip  avg_temp  min_Rhumid  max_Rhumid   \n",
       "0             6.198810      1.415220  8.057868   43.226334   86.756714  \\\n",
       "1             5.814856      1.341458  8.107609   43.714951   86.954338   \n",
       "2             5.647069      1.292602  8.155430   43.871330   87.074242   \n",
       "3             5.349788      1.253974  8.125828   43.934681   87.172386   \n",
       "4             5.344284      1.219387  8.106210   43.998032   87.270538   \n",
       "...                ...           ...       ...         ...         ...   \n",
       "563635       12.123603      3.627121  8.315034   42.326351   84.203377   \n",
       "563636       11.975956      2.754346  8.021772   40.393192   82.094841   \n",
       "563637       12.386173      2.702650  7.976338   40.296097   82.996353   \n",
       "563638       12.684472      2.705669  8.043331   40.397404   83.751907   \n",
       "563639       12.607451      2.904096  8.068064   41.207329   83.986137   \n",
       "\n",
       "        TotNet_SR  \n",
       "0        7.763757  \n",
       "1        7.735141  \n",
       "2        7.708403  \n",
       "3        7.682190  \n",
       "4        7.655977  \n",
       "...           ...  \n",
       "563635   7.081501  \n",
       "563636   7.157553  \n",
       "563637   7.175453  \n",
       "563638   7.184686  \n",
       "563639   7.162969  \n",
       "\n",
       "[563640 rows x 12 columns]"
      ]
     },
     "execution_count": 12,
     "metadata": {},
     "output_type": "execute_result"
    }
   ],
   "source": [
    "weather_ard_df_v2"
   ]
  },
  {
   "cell_type": "code",
   "execution_count": null,
   "id": "ab6686cf",
   "metadata": {},
   "outputs": [],
   "source": []
  }
 ],
 "metadata": {
  "kernelspec": {
   "display_name": "conda_python3",
   "language": "python",
   "name": "conda_python3"
  },
  "language_info": {
   "codemirror_mode": {
    "name": "ipython",
    "version": 3
   },
   "file_extension": ".py",
   "mimetype": "text/x-python",
   "name": "python",
   "nbconvert_exporter": "python",
   "pygments_lexer": "ipython3",
   "version": "3.10.10"
  }
 },
 "nbformat": 4,
 "nbformat_minor": 5
}
