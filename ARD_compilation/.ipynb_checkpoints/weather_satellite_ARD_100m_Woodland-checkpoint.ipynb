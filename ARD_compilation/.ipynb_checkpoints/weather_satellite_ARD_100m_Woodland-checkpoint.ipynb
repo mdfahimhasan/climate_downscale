{
 "cells": [
  {
   "cell_type": "markdown",
   "id": "b5aa20c8",
   "metadata": {},
   "source": [
    "### Author: Md Fahim Hasan\n",
    "### Work Email: mdfahim.hasan@bayer.com"
   ]
  },
  {
   "cell_type": "markdown",
   "id": "c915964a",
   "metadata": {},
   "source": [
    "# Read me\n",
    "\n",
    "The weather and satellite `100m Analytical Ready Data (ARD)`s consists of the folowing datasets-\n",
    "  1. min temperature\n",
    "  2. max temperature\n",
    "  3. average temperature\n",
    "  4. average wind speed\n",
    "  5. average relative humidity\n",
    "  6. total precipitation (modeled or resampled) **\n",
    "  7. min relative humidity\n",
    "  8. max relative humidity\n",
    "  9. total net solar radiation\n",
    "  10. Satellite LST data\n",
    "\n",
    "From these variables, `1-6` will be interpolated/downscaled by ML/DL models from ERA5 28km spatial resolution to 4km resolution, and the 4km datasets will be further resampled to 100m resolution. Due to lack of observed (training) TWC data, variables `7-9` couldn't be interpolated by model, therefore, we will resample the data (bilinear resampling) to 100m spatial resolution. The satellite LST temperature datasets comes with a native 100m spatial resolution and will be used as a `reference` dataset for converting all weather dataset to 100m resolution for Woodland. All these datasets will be converted to a dataframe/parquet/csv format with date, latitude, and longitude records to generate the ARDs.\n",
    "\n",
    "### **Note: \n",
    "- We have TWC high resolution data records starting from 2015-06-30 (for precipitation from 2015-12-01). We have modeled high resolution data from 2002 to 2023. Despite that, from 2015 we will use TWC high resolution data. Therefore, we will replace modeled data with TWC datasets from 2015 before compiling all datasets into the 4km ARD.\n",
    "- The precipitation model didn't perform well. So, we will see how the environmental cluster model performs with modeled precipitation `(V1)` and resampled (directly from ERA5) precipitation `(V2)`.\n",
    "- As the current satellite Land Surface Temperature data records start from 2017, the 100m ARD versions will have data compiled (averaged for each date (month_day)) from 2017-2023. With more temporal datasets available for satellite data, the ARD can be extended temporally.\n",
    "- __Region of Interest (ROI)-__ The 100m ARD is only processed for the Woodland site as satellite Land Surface Temperature data is available for Woodland site only for the time being. With availability of datasets for other regions of the ROI (part of Central valley, California), we can apply our framework for extending ARD for the whole ROI.\n",
    "- The functions used in this script can be found in `ARD_utils.ipynb` script.\n",
    "- __Refernece rasters:__\n",
    "     - Used a model generated 4km resolution dataset (max_temperature) as the reference raster for resampling TWC High-Res precipitation data from 8km to 4km.\n",
    "     - `cities_California_100m_refraster` reference raster can be found in `data_pipeline/data-pipeline-env-model/reference_raster` folder. This reference raster was used to resample the 4km resolution datasets for the ROI (selected cities of central valley, California) to 100m.\n",
    "     - A randomly chosen 100m resolution satellite data for Woodland was used as the third reference raster. This reference raster was used to resample masked weather datasets for the Woodland site.\n",
    "     - Look into the `resample_mask_resample_weather_datasets_to_shapefile()` for understanding how 2nd and 3rd reference rasters were used. Also refer to the dicussion of `step 6. Resampling > Masking > Resampling weather datasets to 100m` for further understanding."
   ]
  },
  {
   "cell_type": "markdown",
   "id": "453530e3",
   "metadata": {},
   "source": [
    "## 100m ARD Processing Steps:\n",
    "\n",
    "The following steps are followed to compile 100m weather + satellite datasets into the ARD-\n",
    "1. __Loading reference raster and ROI shapefile:__ The 100m ARD is only processed for the `Woodland site` as satellite Land Surface Temperature data is available for Woodland site only for the time being. We are choosing a LST dataset over Woodland as the refernece raster and will use it to process LST, soil, elevation, and weather datasets over Woodland.\n",
    "\n",
    "2. __Copying `7-9` weather datasets to (4km) `'../datasets/downscaled_data'` directory:__ The `min relative humidity`, `max relative humidity`, and `total net solar radiation` datasets were not modeled. These datasets were resampled to 100m and will be directly integrated into the 100m ARD. \n",
    "3. __Resampling TWC Hi-Res Precipitation (8km) Data to 4km :__ Resampling TWC High-Res 8km Precipitation Data to 4km and laterwill be resampled to 100m with other datasets. This TWC dataset starts from 2015-12-01. We will replace modeled precipitation dataset with these high resolution dataset starting from 2015-12-01.\n",
    "\n",
    "4. __Replacing some modeled datasets with TWC datasets from 2015:__ We have TWC high resolution data records starting from 2015-06-30 (for precipitation from 2015-12-01). We have modeled high resolution data from 2002 to 2023 using ML/DL models. Despite that, from 2015 we will use TWC high resolution 4km data. Therefore, we will replace modeled data with TWC datasets from 2015 before compling all datasets into the 100m ARD.\n",
    "5. __Copying LST Satellite datasets (100m) to `'../datasets/downscaled_data'` directory:__ Copying processed satellite LST 100m dataset to the common `downscaled_data` directory.\n",
    "6. __Resampling > Masking > Resampling weather datasets to 100m:__ The pixel size of weather datasets are of 4km. But the Woodland site itself if less than 4km is x-y direction, therefore, masking the dataset with the \"Woodland Site\" bounding box will not work. First, we have to first resample the weather data to 100m using our AOI's 100m reference raster. Second, we have to maskthe datasets with Woodland Bbox. Third, we have to resamplethe datasets again (to 100m) to allign the pixels with the LST satellite data's pixels. The following steps will be followed `resample to 100m > mask with Woodland Bbox > resample to 100m with LST reference raster`. Resampling the weather datasets to 100m for the whole AOI (Sacramento) will take up a lot of space, therefore, after resampling the raster and performing the masking+resampling operation, I am deleting the AOI's 100m file. Only storing the masked and resampled 100m raster for the Woodland Bbox.\n",
    "7. __Compiling weather + satellite datasets to multiple `preARD` dataframes:__ Weather + satellite datasets have extended daily records, therefore, compiling weather datasets into multiple dataframe (referring to as `preARD`). These `preARD` dataframes will be combined into a single dataframe and averaged to form the 100m weather ARD. \n",
    "__Note:__ satellite data will be given input in the `create_weather_satellite_100m_preARD_dataframes()` function separately because it doesn't have the same daily coverage as the weather data and can cause unequal array issue while being compiled with the weather datasets\n",
    "8. __Generating Weather+Satellite ARD 100m:__ Compiling the `preARD` dataframes into a single dataframe. This single dataframe is our `100m resolution ARD`. In this final ARD, the datasets are average for each date `(month_day)` for all the years (2017-2023)."
   ]
  },
  {
   "cell_type": "markdown",
   "id": "b593b9f1",
   "metadata": {},
   "source": [
    "-------------------"
   ]
  },
  {
   "cell_type": "code",
   "execution_count": 1,
   "id": "1e28bee8",
   "metadata": {},
   "outputs": [],
   "source": [
    "from shapely.geometry import box\n",
    "\n",
    "from ipynb.fs.full.ARD_utils import *"
   ]
  },
  {
   "cell_type": "markdown",
   "id": "5438ba57",
   "metadata": {},
   "source": [
    "# V1 (with modeled precipitation)"
   ]
  },
  {
   "cell_type": "markdown",
   "id": "603a52d4",
   "metadata": {},
   "source": [
    "### 1. Loading reference raster and ROI shapefile\n",
    "The 100m ARD is only processed for the `Woodland site` as satellite Land Surface Temperature data is available for Woodland site only for the time being.\n",
    "\n",
    "We are choosing a LST dataset over Woodland as the refernece raster and will use it to process LST, soil, elevation, and weather datasets over Woodland."
   ]
  },
  {
   "cell_type": "code",
   "execution_count": 2,
   "id": "7c749bea",
   "metadata": {},
   "outputs": [
    {
     "data": {
      "image/png": "[encoded data removed]",
      "text/plain": [
       "<Figure size 640x480 with 1 Axes>"
      ]
     },
     "metadata": {},
     "output_type": "display_data"
    }
   ],
   "source": [
    "# A LST dataset that covers the whole Woodland\n",
    "reference_LST_raster =  '../../datasets/satellite_raster_data/All/land_surface_temperature_Veg_US_Crop_876_2018-08-06.tif'\n",
    "ref_minx, ref_miny, ref_maxx, ref_maxy= rio.open(reference_LST_raster).bounds\n",
    "\n",
    "# creating a polygon geodataframe/shapefile using reference raster bounding box\n",
    "# will use this to mask ERA5 datasets\n",
    "ref_geom = box(ref_minx, ref_miny, ref_maxx, ref_maxy)\n",
    "ref_gdf = gpd.GeoDataFrame({'id': 1, 'geometry': [ref_geom]})\n",
    "ref_gdf = ref_gdf.set_crs('EPSG: 4326')\n",
    "ref_gdf.plot()\n",
    "ref_gdf.to_file('../shapefiles_grids/LST_Woodland_bbox.shp')"
   ]
  },
  {
   "cell_type": "code",
   "execution_count": 3,
   "id": "34b35a45",
   "metadata": {},
   "outputs": [],
   "source": [
    "# reference raster for California's AOI (Sacramento)\n",
    "cities_California_100m_refraster = '../reference_rasters/cities_California_100m_ref_raster.tif'"
   ]
  },
  {
   "cell_type": "markdown",
   "id": "22facc38",
   "metadata": {},
   "source": [
    "### 2. Copying `7-9` weather datasets to (4km) `'../datasets/downscaled_data'` directory"
   ]
  },
  {
   "cell_type": "code",
   "execution_count": 4,
   "id": "f2c9458e",
   "metadata": {},
   "outputs": [
    {
     "data": {
      "text/plain": [
       "'../../datasets/downscaled_data/4km/weather_data/resampled_4km/MaxNet_SR/MaxNet_SR_20100416.tif'"
      ]
     },
     "execution_count": 4,
     "metadata": {},
     "output_type": "execute_result"
    }
   ],
   "source": [
    "# copying min relative humidity dataset\n",
    "min_rel_humidity_dir = '../../datasets/weather_raster_data/cities_California/era5_data/resampled_4km_rasters_bilinear/min_Rhumid'\n",
    "min_rel_humidity_copy_dir =  '../../datasets/downscaled_data/4km/weather_data/resampled_4km/min_Rhumid'\n",
    "copy_file(input_dir_file=min_rel_humidity_dir, copy_dir=min_rel_humidity_copy_dir, search_by='*.tif')\n",
    "\n",
    "\n",
    "# copying max relative humidity dataset\n",
    "max_rel_humidity_dir = '../../datasets/weather_raster_data/cities_California/era5_data/resampled_4km_rasters_bilinear/max_Rhumid'\n",
    "max_rel_humidity_copy_dir = '../../datasets/downscaled_data/4km/weather_data/resampled_4km/max_Rhumid'\n",
    "copy_file(input_dir_file=max_rel_humidity_dir, copy_dir=max_rel_humidity_copy_dir, search_by='*.tif')\n",
    "\n",
    "\n",
    "# copying total net solar radiation dataset\n",
    "tot_net_SR_dir = '../../datasets/weather_raster_data/cities_California/era5_data/resampled_4km_rasters_bilinear/TotNet_SR'\n",
    "tot_net_SR_copy_dir = '../../datasets/downscaled_data/4km/weather_data/resampled_4km/TotNet_SR'\n",
    "copy_file(input_dir_file=tot_net_SR_dir, copy_dir=tot_net_SR_copy_dir, search_by='*.tif')"
   ]
  },
  {
   "cell_type": "markdown",
   "id": "fc581dc2",
   "metadata": {},
   "source": [
    "### 3. Resampling TWC Hi-Res Precipitation (8km) Data to 4km \n",
    "Resampling TWC High-Res 8km Precipitation Data to 4km. This TWC dataset starts from 2015-12-01. We will replace modeled precipitation dataset with these high resolution dataset starting from 2015-12-01."
   ]
  },
  {
   "cell_type": "code",
   "execution_count": 3,
   "id": "198c3b0a",
   "metadata": {},
   "outputs": [],
   "source": [
    "total_precip_8km_dir_twc = '../../datasets/weather_raster_data/cities_California/twc_data/precip_data_8km/total_precip'\n",
    "total_precip_4km_dir_twc = '../../datasets/weather_raster_data/cities_California/twc_data/resampled_precip_data_4km/total_precip'\n",
    "\n",
    "ref_raster = '../../datasets/downscaled_data/4km/weather_data/modeled_4km/max_temp/max_temp_20020101.tif'\n",
    "\n",
    "total_precip_8km_datasets = glob(os.path.join(total_precip_8km_dir_twc, '*.tif'))\n",
    "\n",
    "# Resampling TWC Hi-Res data from 8km to 4km\n",
    "for precip_data in total_precip_8km_datasets:\n",
    "    raster_name = os.path.basename(precip_data)\n",
    "    resample_raster_based_on_ref_raster(input_raster=precip_data, ref_raster=ref_raster, \n",
    "                                        output_dir=total_precip_4km_dir_twc, \n",
    "                                        raster_name=raster_name, resampling_alg=Resampling.bilinear,\n",
    "                                        paste_value_on_ref_raster=False)"
   ]
  },
  {
   "cell_type": "markdown",
   "id": "def846af",
   "metadata": {},
   "source": [
    "### 4. Replacing some modeled datasets with TWC datasets from 2015\n",
    "We have TWC high resolution data records starting from 2015-06-30 (for precipitation from 2015-12-01). We have modeled high resolution data from 2002 to 2023. Despite that, from 2015 we will use TWC high resolution 4km data. Therefore, we will replace modeled data with TWC datasets from 2015 before compiling all datasets into the 4km ARD."
   ]
  },
  {
   "cell_type": "code",
   "execution_count": null,
   "id": "00fb3c29",
   "metadata": {},
   "outputs": [],
   "source": [
    "# TWC weather datasets\n",
    "max_temp_dir_twc = '../../datasets/weather_raster_data/cities_California/twc_data/weather_data_4km/max_temp'\n",
    "min_temp_dir_twc = '../../datasets/weather_raster_data/cities_California/twc_data/weather_data_4km/min_temp'\n",
    "avg_rel_humid_dir_twc = '../../datasets/weather_raster_data/cities_California/twc_data/weather_data_4km/avg_Rhumid'\n",
    "avg_wind_speed_dir_twc = '../../datasets/weather_raster_data/cities_California/twc_data/weather_data_4km/avg_wind_speed'\n",
    "precipitation_dir_twc = '../../datasets/weather_raster_data/cities_California/twc_data/resampled_precip_data_4km/total_precip'\n",
    "\n",
    "\n",
    "# model interpolated weather datasets \n",
    "max_temp_dir_modeled = '../../datasets/downscaled_data/4km/weather_data/modeled_4km/max_temp'\n",
    "min_temp_dir_modeled = '../../datasets/downscaled_data/4km/weather_data/modeled_4km/min_temp'\n",
    "avg_rel_humid_dir_modeled = '../../datasets/downscaled_data/4km/weather_data/modeled_4km/avg_Rhumid'\n",
    "avg_wind_speed_dir_modeled = '../../datasets/downscaled_data/4km/weather_data/modeled_4km/avg_wind_speed'\n",
    "precipitation_dir_modeled = '../../datasets/downscaled_data/4km/weather_data/modeled_precipitation_resampled_4km/total_precip'  # ML/DL model generated total_precip \n",
    "\n",
    "\n",
    "\n",
    "copy_file(input_dir_file=max_temp_dir_twc, copy_dir=max_temp_dir_modeled, search_by='*.tif')\n",
    "copy_file(input_dir_file=min_temp_dir_twc, copy_dir=min_temp_dir_modeled, search_by='*.tif')\n",
    "copy_file(input_dir_file=avg_rel_humid_dir_twc, copy_dir=avg_rel_humid_dir_modeled, search_by='*.tif')\n",
    "copy_file(input_dir_file=avg_wind_speed_dir_twc, copy_dir=avg_wind_speed_dir_modeled, search_by='*.tif')\n",
    "copy_file(input_dir_file=precipitation_dir_twc, copy_dir=precipitation_dir_modeled, search_by='*.tif')"
   ]
  },
  {
   "cell_type": "markdown",
   "id": "64fa27ee",
   "metadata": {},
   "source": [
    " ### 5. Copying LST Satellite datasets (100m) to `'../datasets/downscaled_data'` directory"
   ]
  },
  {
   "cell_type": "code",
   "execution_count": 4,
   "id": "8e527ac7",
   "metadata": {},
   "outputs": [
    {
     "data": {
      "text/plain": [
       "'../../datasets/downscaled_data/100m/satellite_data/LST_woodland/land_surface_temperature_Veg_US_Crop_887_20190320.tif'"
      ]
     },
     "execution_count": 4,
     "metadata": {},
     "output_type": "execute_result"
    }
   ],
   "source": [
    "LST_dir = '../../datasets/satellite_raster_data/Woodland/LST_single_band'\n",
    "LST_copy_dir = '../../datasets/downscaled_data/100m/satellite_data/LST_woodland'\n",
    "\n",
    "copy_file(input_dir_file=LST_dir, copy_dir=LST_copy_dir, search_by='*.tif')"
   ]
  },
  {
   "cell_type": "markdown",
   "id": "35965ea4",
   "metadata": {},
   "source": [
    "### 6. Resampling > Masking > Resampling weather datasets to 100m\n",
    "\n",
    "#### Note\n",
    "\n",
    "The pixel size of weather datasets are of 4km. But the Woodland site itself if less than 4km is x-y direction, therefore, masking the dataset with the \"Woodland Site\" bounding box will not work. First, we have to first resample the weather data to 100m using our AOI's 100m reference raster. Second, we have to maskthe datasets with Woodland Bbox. Third, we have to resamplethe datasets again (to 100m) to allign the pixels with the LST satellite data's pixels. The following steps will be followed `resample to 100m > mask with Woodland Bbox > resample to 100m with LST reference raster`\n",
    "\n",
    "Resampling the weather datasets to 100m for the whole AOI (Sacramento) will take up a lot of space, therefore, after resampling the raster and performing the masking+resampling operation, I am deleting the AOI's 100m file. Only storing the masked and resampled 100m raster for the Woodland Bbox."
   ]
  },
  {
   "cell_type": "code",
   "execution_count": 4,
   "id": "96f5528e",
   "metadata": {},
   "outputs": [],
   "source": [
    "# model interpolated weather datasets (have TWC datasets from 2015)\n",
    "max_temp_dir = '../../datasets/downscaled_data/4km/weather_data/modeled_4km/max_temp'\n",
    "min_temp_dir = '../../datasets/downscaled_data/4km/weather_data/modeled_4km/min_temp'\n",
    "avg_temp_dir = '../../datasets/downscaled_data/4km/weather_data/modeled_4km/avg_temp'\n",
    "avg_rel_humid_dir = '../../datasets/downscaled_data/4km/weather_data/modeled_4km/avg_Rhumid'\n",
    "avg_wind_speed_dir = '../../datasets/downscaled_data/4km/weather_data/modeled_4km/avg_wind_speed'\n",
    "precipitation_dir = '../../datasets/downscaled_data/4km/weather_data/modeled_precipitation_resampled_4km/total_precip'  # ML/DL model generated total_precip + TWC High-Res resampled 4km precip from 2015\n",
    "\n",
    "\n",
    "# era5 resampled weather datasets\n",
    "min_rel_humidity_dir = '../../datasets/downscaled_data/4km/weather_data/resampled_4km/min_Rhumid'\n",
    "max_rel_humidity_dir = '../../datasets/downscaled_data/4km/weather_data/resampled_4km/max_Rhumid'\n",
    "total_net_SR_dir = '../../datasets/downscaled_data/4km/weather_data/resampled_4km/TotNet_SR'\n",
    "\n",
    "\n",
    "all_weather_data_directories_v1 = [max_temp_dir, min_temp_dir, avg_temp_dir, avg_rel_humid_dir, avg_wind_speed_dir,\n",
    "                                   precipitation_dir, min_rel_humidity_dir, max_rel_humidity_dir, \n",
    "                                   total_net_SR_dir]"
   ]
  },
  {
   "cell_type": "code",
   "execution_count": 5,
   "id": "f5a8cca5",
   "metadata": {},
   "outputs": [
    {
     "data": {
      "text/plain": [
       "['../../datasets/downscaled_data/4km/weather_data/modeled_4km/max_temp',\n",
       " '../../datasets/downscaled_data/4km/weather_data/modeled_4km/min_temp',\n",
       " '../../datasets/downscaled_data/4km/weather_data/modeled_4km/avg_temp',\n",
       " '../../datasets/downscaled_data/4km/weather_data/modeled_4km/avg_Rhumid',\n",
       " '../../datasets/downscaled_data/4km/weather_data/modeled_4km/avg_wind_speed',\n",
       " '../../datasets/downscaled_data/4km/weather_data/modeled_precipitation_resampled_4km/total_precip',\n",
       " '../../datasets/downscaled_data/4km/weather_data/resampled_4km/min_Rhumid',\n",
       " '../../datasets/downscaled_data/4km/weather_data/resampled_4km/max_Rhumid',\n",
       " '../../datasets/downscaled_data/4km/weather_data/resampled_4km/TotNet_SR']"
      ]
     },
     "execution_count": 5,
     "metadata": {},
     "output_type": "execute_result"
    }
   ],
   "source": [
    "all_weather_data_directories_v1"
   ]
  },
  {
   "cell_type": "code",
   "execution_count": null,
   "id": "34bee980",
   "metadata": {},
   "outputs": [
    {
     "name": "stdout",
     "output_type": "stream",
     "text": [
      "Resampling > Masking > Resampling data for max_temp...\n",
      "Resampling > Masking > Resampling data for min_temp...\n",
      "Resampling > Masking > Resampling data for avg_temp...\n",
      "Resampling > Masking > Resampling data for avg_Rhumid...\n",
      "Resampling > Masking > Resampling data for avg_wind_speed...\n",
      "Resampling > Masking > Resampling data for total_precip...\n",
      "Resampling > Masking > Resampling data for min_Rhumid...\n"
     ]
    }
   ],
   "source": [
    "output_dir = '../../datasets/downscaled_data/100m/weather_data/V1'\n",
    "bbox= '../shapefiles_grids/LST_Woodland_bbox.shp'\n",
    "sacramento_ref_raster = cities_California_100m_refraster\n",
    "woodland_ref_raster = '../../datasets/satellite_raster_data/All/land_surface_temperature_Veg_US_Crop_876_2018-08-06.tif'\n",
    "\n",
    "resample_mask_resample_weather_datasets_to_shapefile(input_data_dir_list=all_weather_data_directories_v1, \n",
    "                                                     output_main_dir=output_dir, masking_shapefile=bbox, \n",
    "                                                     target_raster_whole_aoi=sacramento_ref_raster, \n",
    "                                                     target_raster_smaller_aoi=woodland_ref_raster)"
   ]
  },
  {
   "cell_type": "markdown",
   "id": "b4075d8d",
   "metadata": {},
   "source": [
    "### 7. Compiling weather + satellite datasets to multiple `preARD` dataframes\n",
    "\n",
    "Weather + satellite datasets have extended daily records, therefore, compiling weather datasets into multiple dataframe (referring to as `preARD`). These `preARD` dataframes will be combined into a single dataframe and averaged to form the 100m weather ARD."
   ]
  },
  {
   "cell_type": "code",
   "execution_count": 4,
   "id": "ec0c12bd",
   "metadata": {},
   "outputs": [
    {
     "data": {
      "text/plain": [
       "['../../datasets/downscaled_data/100m/weather_data/V1/max_temp',\n",
       " '../../datasets/downscaled_data/100m/weather_data/V1/min_temp',\n",
       " '../../datasets/downscaled_data/100m/weather_data/V1/avg_temp',\n",
       " '../../datasets/downscaled_data/100m/weather_data/V1/avg_Rhumid',\n",
       " '../../datasets/downscaled_data/100m/weather_data/V1/avg_wind_speed',\n",
       " '../../datasets/downscaled_data/100m/weather_data/V1/total_precip',\n",
       " '../../datasets/downscaled_data/100m/weather_data/V1/min_Rhumid',\n",
       " '../../datasets/downscaled_data/100m/weather_data/V1/max_Rhumid',\n",
       " '../../datasets/downscaled_data/100m/weather_data/V1/TotNet_SR']"
      ]
     },
     "execution_count": 4,
     "metadata": {},
     "output_type": "execute_result"
    }
   ],
   "source": [
    "######### 100m weather datasets ############# \n",
    "\n",
    "# model interpolated weather datasets (these datasets were first downscaled by ML/DL model to 4km-8km and then resampled to 100m)\n",
    "max_temp_dir = '../../datasets/downscaled_data/100m/weather_data/V1/max_temp'\n",
    "min_temp_dir = '../../datasets/downscaled_data/100m/weather_data/V1/min_temp'\n",
    "avg_temp_dir = '../../datasets/downscaled_data/100m/weather_data/V1/avg_temp'\n",
    "avg_rel_humid_dir = '../../datasets/downscaled_data/100m/weather_data/V1/avg_Rhumid'\n",
    "avg_wind_speed_dir = '../../datasets/downscaled_data/100m/weather_data/V1/avg_wind_speed'\n",
    "precipitation_dir = '../../datasets/downscaled_data/100m/weather_data/V1/total_precip'  # ML/DL model generated total_precip \n",
    "\n",
    "\n",
    "# era5 resampled weather datasets (these datasets were directly resampled from ERA5 28km to 100m)\n",
    "min_rel_humidity_dir = '../../datasets/downscaled_data/100m/weather_data/V1/min_Rhumid'\n",
    "max_rel_humidity_dir = '../../datasets/downscaled_data/100m/weather_data/V1/max_Rhumid'\n",
    "total_net_SR_dir = '../../datasets/downscaled_data/100m/weather_data/V1/TotNet_SR'\n",
    "\n",
    "\n",
    "all_weather_data_100m_v1 = [max_temp_dir, min_temp_dir, avg_temp_dir, avg_rel_humid_dir, avg_wind_speed_dir,\n",
    "                            precipitation_dir, min_rel_humidity_dir, max_rel_humidity_dir, total_net_SR_dir]\n",
    "\n",
    "all_weather_data_100m_v1"
   ]
  },
  {
   "cell_type": "markdown",
   "id": "5ba1079f",
   "metadata": {},
   "source": [
    "__satellite data will be given input in the folowing function separately because it doesn't have the same daily coverage as the weather data and can cause unequal array issue while being compiled with the weather datasets.__"
   ]
  },
  {
   "cell_type": "code",
   "execution_count": 9,
   "id": "fcd3b0dd",
   "metadata": {},
   "outputs": [
    {
     "name": "stdout",
     "output_type": "stream",
     "text": [
      "compiling data for max_temp...\n",
      "compiling data for min_temp...\n",
      "compiling data for avg_Rhumid...\n",
      "compiling data for avg_wind_speed...\n",
      "compiling data for total_precip...\n",
      "compiling data for avg_temp...\n",
      "compiling data for min_Rhumid...\n",
      "compiling data for max_Rhumid...\n",
      "compiling data for TotNet_SR...\n",
      "compiling data for LST_woodland...\n"
     ]
    }
   ],
   "source": [
    "weather_data_directories_v1 = all_weather_data_100m_v1\n",
    "satellite_data_directories = ['../../datasets/downscaled_data/100m/satellite_data/LST_woodland']\n",
    "\n",
    "\n",
    "create_weather_satellite_100m_preARD_dataframes(weather_data_directories_list=weather_data_directories_v1, \n",
    "                                                satellite_data_directories_list = satellite_data_directories,\n",
    "                                                output_folder='../../datasets/ARD/100m', \n",
    "                                                savename='weather_satellite_data_100m_preARD_V1', \n",
    "                                                dataset_in_each_chunk=3)"
   ]
  },
  {
   "cell_type": "markdown",
   "id": "805fa070",
   "metadata": {},
   "source": [
    "### 8. Generating Weather+Satellite ARD 100m\n",
    "Compiling the preARD dataframes into a single dataframe. This single dataframe is our `100m resolution ARD V1`."
   ]
  },
  {
   "cell_type": "code",
   "execution_count": 10,
   "id": "9521d851",
   "metadata": {},
   "outputs": [],
   "source": [
    "weather_satellite_ard_df_v1 = compile_preARD_multiDF_to_ARD(parquet_folder='../../datasets/ARD/100m/weather_satellite_data_100m_preARD_V1', \n",
    "                                                  output_folder='../../datasets/ARD/100m', \n",
    "                                                  savename='weather_satellite_100m_ARD_Woodland_V1.parquet')"
   ]
  },
  {
   "cell_type": "code",
   "execution_count": 11,
   "id": "db7f2207",
   "metadata": {},
   "outputs": [
    {
     "data": {
      "text/html": [
       "<div>\n",
       "<style scoped>\n",
       "    .dataframe tbody tr th:only-of-type {\n",
       "        vertical-align: middle;\n",
       "    }\n",
       "\n",
       "    .dataframe tbody tr th {\n",
       "        vertical-align: top;\n",
       "    }\n",
       "\n",
       "    .dataframe thead th {\n",
       "        text-align: right;\n",
       "    }\n",
       "</style>\n",
       "<table border=\"1\" class=\"dataframe\">\n",
       "  <thead>\n",
       "    <tr style=\"text-align: right;\">\n",
       "      <th></th>\n",
       "      <th>month_day</th>\n",
       "      <th>lat</th>\n",
       "      <th>lon</th>\n",
       "      <th>LST_woodland</th>\n",
       "      <th>avg_temp</th>\n",
       "      <th>min_Rhumid</th>\n",
       "      <th>max_Rhumid</th>\n",
       "      <th>TotNet_SR</th>\n",
       "      <th>avg_wind_speed</th>\n",
       "      <th>total_precip</th>\n",
       "      <th>max_temp</th>\n",
       "      <th>min_temp</th>\n",
       "      <th>avg_Rhumid</th>\n",
       "    </tr>\n",
       "  </thead>\n",
       "  <tbody>\n",
       "    <tr>\n",
       "      <th>0</th>\n",
       "      <td>01_01</td>\n",
       "      <td>38.670667</td>\n",
       "      <td>-121.816444</td>\n",
       "      <td>6.907501</td>\n",
       "      <td>8.061663</td>\n",
       "      <td>33.431217</td>\n",
       "      <td>78.158134</td>\n",
       "      <td>8.308899</td>\n",
       "      <td>11.084865</td>\n",
       "      <td>0.035342</td>\n",
       "      <td>13.168329</td>\n",
       "      <td>2.783760</td>\n",
       "      <td>61.957291</td>\n",
       "    </tr>\n",
       "    <tr>\n",
       "      <th>1</th>\n",
       "      <td>01_01</td>\n",
       "      <td>38.670667</td>\n",
       "      <td>-121.815556</td>\n",
       "      <td>6.834999</td>\n",
       "      <td>8.055140</td>\n",
       "      <td>33.451252</td>\n",
       "      <td>78.180573</td>\n",
       "      <td>8.309107</td>\n",
       "      <td>11.076511</td>\n",
       "      <td>0.036135</td>\n",
       "      <td>13.166052</td>\n",
       "      <td>2.783000</td>\n",
       "      <td>62.000580</td>\n",
       "    </tr>\n",
       "    <tr>\n",
       "      <th>2</th>\n",
       "      <td>01_01</td>\n",
       "      <td>38.670667</td>\n",
       "      <td>-121.814667</td>\n",
       "      <td>6.779999</td>\n",
       "      <td>8.048616</td>\n",
       "      <td>33.471291</td>\n",
       "      <td>78.203011</td>\n",
       "      <td>8.309315</td>\n",
       "      <td>11.068157</td>\n",
       "      <td>0.036929</td>\n",
       "      <td>13.163774</td>\n",
       "      <td>2.782241</td>\n",
       "      <td>62.043865</td>\n",
       "    </tr>\n",
       "    <tr>\n",
       "      <th>3</th>\n",
       "      <td>01_01</td>\n",
       "      <td>38.670667</td>\n",
       "      <td>-121.813778</td>\n",
       "      <td>7.447495</td>\n",
       "      <td>8.042093</td>\n",
       "      <td>33.491325</td>\n",
       "      <td>78.225449</td>\n",
       "      <td>8.309522</td>\n",
       "      <td>11.059804</td>\n",
       "      <td>0.037723</td>\n",
       "      <td>13.161495</td>\n",
       "      <td>2.781482</td>\n",
       "      <td>62.087151</td>\n",
       "    </tr>\n",
       "    <tr>\n",
       "      <th>4</th>\n",
       "      <td>01_01</td>\n",
       "      <td>38.670667</td>\n",
       "      <td>-121.812889</td>\n",
       "      <td>6.995003</td>\n",
       "      <td>8.035570</td>\n",
       "      <td>33.511360</td>\n",
       "      <td>78.247879</td>\n",
       "      <td>8.309729</td>\n",
       "      <td>11.051450</td>\n",
       "      <td>0.038517</td>\n",
       "      <td>13.159217</td>\n",
       "      <td>2.780722</td>\n",
       "      <td>62.130440</td>\n",
       "    </tr>\n",
       "    <tr>\n",
       "      <th>...</th>\n",
       "      <td>...</td>\n",
       "      <td>...</td>\n",
       "      <td>...</td>\n",
       "      <td>...</td>\n",
       "      <td>...</td>\n",
       "      <td>...</td>\n",
       "      <td>...</td>\n",
       "      <td>...</td>\n",
       "      <td>...</td>\n",
       "      <td>...</td>\n",
       "      <td>...</td>\n",
       "      <td>...</td>\n",
       "      <td>...</td>\n",
       "    </tr>\n",
       "    <tr>\n",
       "      <th>73927</th>\n",
       "      <td>12_31</td>\n",
       "      <td>38.684889</td>\n",
       "      <td>-121.815556</td>\n",
       "      <td>6.096002</td>\n",
       "      <td>9.585676</td>\n",
       "      <td>36.521149</td>\n",
       "      <td>86.334068</td>\n",
       "      <td>7.712244</td>\n",
       "      <td>13.881453</td>\n",
       "      <td>0.462623</td>\n",
       "      <td>13.252660</td>\n",
       "      <td>4.064751</td>\n",
       "      <td>68.257095</td>\n",
       "    </tr>\n",
       "    <tr>\n",
       "      <th>73928</th>\n",
       "      <td>12_31</td>\n",
       "      <td>38.684889</td>\n",
       "      <td>-121.814667</td>\n",
       "      <td>6.515997</td>\n",
       "      <td>9.581711</td>\n",
       "      <td>36.535896</td>\n",
       "      <td>86.351791</td>\n",
       "      <td>7.712217</td>\n",
       "      <td>13.869690</td>\n",
       "      <td>0.466011</td>\n",
       "      <td>13.248056</td>\n",
       "      <td>4.056056</td>\n",
       "      <td>68.306709</td>\n",
       "    </tr>\n",
       "    <tr>\n",
       "      <th>73929</th>\n",
       "      <td>12_31</td>\n",
       "      <td>38.684889</td>\n",
       "      <td>-121.813778</td>\n",
       "      <td>6.783997</td>\n",
       "      <td>9.577745</td>\n",
       "      <td>36.550640</td>\n",
       "      <td>86.369522</td>\n",
       "      <td>7.712190</td>\n",
       "      <td>13.857927</td>\n",
       "      <td>0.469399</td>\n",
       "      <td>13.243454</td>\n",
       "      <td>4.047362</td>\n",
       "      <td>68.356308</td>\n",
       "    </tr>\n",
       "    <tr>\n",
       "      <th>73930</th>\n",
       "      <td>12_31</td>\n",
       "      <td>38.684889</td>\n",
       "      <td>-121.812889</td>\n",
       "      <td>6.221997</td>\n",
       "      <td>9.573781</td>\n",
       "      <td>36.565384</td>\n",
       "      <td>86.387253</td>\n",
       "      <td>7.712164</td>\n",
       "      <td>13.846164</td>\n",
       "      <td>0.472788</td>\n",
       "      <td>13.238851</td>\n",
       "      <td>4.038668</td>\n",
       "      <td>68.405930</td>\n",
       "    </tr>\n",
       "    <tr>\n",
       "      <th>73931</th>\n",
       "      <td>12_31</td>\n",
       "      <td>38.684889</td>\n",
       "      <td>-121.812000</td>\n",
       "      <td>5.681994</td>\n",
       "      <td>9.569815</td>\n",
       "      <td>36.580128</td>\n",
       "      <td>86.404984</td>\n",
       "      <td>7.712138</td>\n",
       "      <td>13.834402</td>\n",
       "      <td>0.476176</td>\n",
       "      <td>13.234247</td>\n",
       "      <td>4.029974</td>\n",
       "      <td>68.455528</td>\n",
       "    </tr>\n",
       "  </tbody>\n",
       "</table>\n",
       "<p>73932 rows × 13 columns</p>\n",
       "</div>"
      ],
      "text/plain": [
       "      month_day        lat         lon  LST_woodland  avg_temp  min_Rhumid   \n",
       "0         01_01  38.670667 -121.816444      6.907501  8.061663   33.431217  \\\n",
       "1         01_01  38.670667 -121.815556      6.834999  8.055140   33.451252   \n",
       "2         01_01  38.670667 -121.814667      6.779999  8.048616   33.471291   \n",
       "3         01_01  38.670667 -121.813778      7.447495  8.042093   33.491325   \n",
       "4         01_01  38.670667 -121.812889      6.995003  8.035570   33.511360   \n",
       "...         ...        ...         ...           ...       ...         ...   \n",
       "73927     12_31  38.684889 -121.815556      6.096002  9.585676   36.521149   \n",
       "73928     12_31  38.684889 -121.814667      6.515997  9.581711   36.535896   \n",
       "73929     12_31  38.684889 -121.813778      6.783997  9.577745   36.550640   \n",
       "73930     12_31  38.684889 -121.812889      6.221997  9.573781   36.565384   \n",
       "73931     12_31  38.684889 -121.812000      5.681994  9.569815   36.580128   \n",
       "\n",
       "       max_Rhumid  TotNet_SR  avg_wind_speed  total_precip   max_temp   \n",
       "0       78.158134   8.308899       11.084865      0.035342  13.168329  \\\n",
       "1       78.180573   8.309107       11.076511      0.036135  13.166052   \n",
       "2       78.203011   8.309315       11.068157      0.036929  13.163774   \n",
       "3       78.225449   8.309522       11.059804      0.037723  13.161495   \n",
       "4       78.247879   8.309729       11.051450      0.038517  13.159217   \n",
       "...           ...        ...             ...           ...        ...   \n",
       "73927   86.334068   7.712244       13.881453      0.462623  13.252660   \n",
       "73928   86.351791   7.712217       13.869690      0.466011  13.248056   \n",
       "73929   86.369522   7.712190       13.857927      0.469399  13.243454   \n",
       "73930   86.387253   7.712164       13.846164      0.472788  13.238851   \n",
       "73931   86.404984   7.712138       13.834402      0.476176  13.234247   \n",
       "\n",
       "       min_temp  avg_Rhumid  \n",
       "0      2.783760   61.957291  \n",
       "1      2.783000   62.000580  \n",
       "2      2.782241   62.043865  \n",
       "3      2.781482   62.087151  \n",
       "4      2.780722   62.130440  \n",
       "...         ...         ...  \n",
       "73927  4.064751   68.257095  \n",
       "73928  4.056056   68.306709  \n",
       "73929  4.047362   68.356308  \n",
       "73930  4.038668   68.405930  \n",
       "73931  4.029974   68.455528  \n",
       "\n",
       "[73932 rows x 13 columns]"
      ]
     },
     "execution_count": 11,
     "metadata": {},
     "output_type": "execute_result"
    }
   ],
   "source": [
    "weather_satellite_ard_df_v1"
   ]
  },
  {
   "cell_type": "code",
   "execution_count": 12,
   "id": "e84e9efa",
   "metadata": {},
   "outputs": [
    {
     "data": {
      "text/plain": [
       "202"
      ]
     },
     "execution_count": 12,
     "metadata": {},
     "output_type": "execute_result"
    }
   ],
   "source": [
    "## number of records in a particulat month_day\n",
    "single_day_df = weather_satellite_ard_df_v1[weather_satellite_ard_df_v1['month_day']=='01_02']\n",
    "len(single_day_df)"
   ]
  },
  {
   "cell_type": "markdown",
   "id": "756fb28e",
   "metadata": {},
   "source": [
    "`For a single mm_dd, there are 202 rows of record each having 100m pixel size.`"
   ]
  },
  {
   "cell_type": "markdown",
   "id": "f62ed85b",
   "metadata": {},
   "source": [
    "--------------------------"
   ]
  },
  {
   "cell_type": "markdown",
   "id": "478b2e7c",
   "metadata": {},
   "source": [
    "------------------------"
   ]
  },
  {
   "cell_type": "markdown",
   "id": "51523aa3",
   "metadata": {},
   "source": [
    "# V2 (with resampled precipitation)\n",
    "\n",
    "As the precipitation model didn't perform well, we will use resampled (directly from 28km ERA5 data to 100mm) precipitation data in the ARD and observe the environmental clustering model performance."
   ]
  },
  {
   "cell_type": "markdown",
   "id": "0f55a874",
   "metadata": {},
   "source": [
    "### 1. Loading reference raster and ROI shapefile\n",
    "The 100m ARD is only processed for the `Woodland site` as satellite Land Surface Temperature data is available for Woodland site only for the time being.\n",
    "\n",
    "We are choosing a LST dataset over Woodland as the refernece raster and will use it to process LST, soil, elevation, and weather datasets over Woodland."
   ]
  },
  {
   "cell_type": "code",
   "execution_count": 13,
   "id": "ace82bdb",
   "metadata": {},
   "outputs": [
    {
     "data": {
      "image/png": "[encoded data removed]",
      "text/plain": [
       "<Figure size 640x480 with 1 Axes>"
      ]
     },
     "metadata": {},
     "output_type": "display_data"
    }
   ],
   "source": [
    "# A LST dataset that covers the whole Woodland\n",
    "reference_LST_raster =  '../../datasets/satellite_raster_data/All/land_surface_temperature_Veg_US_Crop_876_2018-08-06.tif'\n",
    "ref_minx, ref_miny, ref_maxx, ref_maxy= rio.open(reference_LST_raster).bounds\n",
    "\n",
    "# creating a polygon geodataframe/shapefile using reference raster bounding box\n",
    "# will use this to mask ERA5 datasets\n",
    "ref_geom = box(ref_minx, ref_miny, ref_maxx, ref_maxy)\n",
    "ref_gdf = gpd.GeoDataFrame({'id': 1, 'geometry': [ref_geom]})\n",
    "ref_gdf = ref_gdf.set_crs('EPSG: 4326')\n",
    "ref_gdf.plot()\n",
    "ref_gdf.to_file('../shapefiles_grids/LST_Woodland_bbox.shp')"
   ]
  },
  {
   "cell_type": "code",
   "execution_count": 14,
   "id": "b2eb5047",
   "metadata": {},
   "outputs": [],
   "source": [
    "# reference raster for California's AOI (Sacramento)\n",
    "cities_California_100m_refraster = '../reference_rasters/cities_California_100m_ref_raster.tif'"
   ]
  },
  {
   "cell_type": "markdown",
   "id": "7d28941c",
   "metadata": {},
   "source": [
    "### 2. Copying `7-9` weather datasets to (4km) `'../datasets/downscaled_data'` directory\n",
    "This step was performed during 4km ARD and 100m ARD V1 processing. Commenting it out."
   ]
  },
  {
   "cell_type": "code",
   "execution_count": 15,
   "id": "09fa447c",
   "metadata": {},
   "outputs": [],
   "source": [
    "# # copying min relative humidity dataset\n",
    "# min_rel_humidity_dir = '../../datasets/weather_raster_data/cities_California/era5_data/resampled_4km_rasters_bilinear/min_Rhumid'\n",
    "# min_rel_humidity_copy_dir =  '../../datasets/downscaled_data/4km/weather_data/resampled_4km/min_Rhumid'\n",
    "# copy_file(input_dir_file=min_rel_humidity_dir, copy_dir=min_rel_humidity_copy_dir, search_by='*.tif')\n",
    "\n",
    "\n",
    "# # copying max relative humidity dataset\n",
    "# max_rel_humidity_dir = '../../datasets/weather_raster_data/cities_California/era5_data/resampled_4km_rasters_bilinear/max_Rhumid'\n",
    "# max_rel_humidity_copy_dir = '../../datasets/downscaled_data/4km/weather_data/resampled_4km/max_Rhumid'\n",
    "# copy_file(input_dir_file=max_rel_humidity_dir, copy_dir=max_rel_humidity_copy_dir, search_by='*.tif')\n",
    "\n",
    "\n",
    "# # copying total net solar radiation dataset\n",
    "# tot_net_SR_dir = '../../datasets/weather_raster_data/cities_California/era5_data/resampled_4km_rasters_bilinear/TotNet_SR'\n",
    "# tot_net_SR_copy_dir = '../../datasets/downscaled_data/4km/weather_data/resampled_4km/TotNet_SR'\n",
    "# copy_file(input_dir_file=tot_net_SR_dir, copy_dir=tot_net_SR_copy_dir, search_by='*.tif')"
   ]
  },
  {
   "cell_type": "markdown",
   "id": "71445bae",
   "metadata": {},
   "source": [
    "### 3. Resampling TWC Hi-Res Precipitation (8km) Data to 4km \n",
    "Resampling TWC High-Res 8km Precipitation Data to 4km. This TWC dataset starts from 2015-12-01. We will replace modeled precipitation dataset with these high resolution dataset starting from 2015-12-01.\n",
    "\n",
    "This step was performed in 4km ARD creation. Commenting out the step."
   ]
  },
  {
   "cell_type": "code",
   "execution_count": 16,
   "id": "e6ed0580",
   "metadata": {},
   "outputs": [],
   "source": [
    "# total_precip_8km_dir_twc = '../../datasets/weather_raster_data/cities_California/twc_data/precip_data_8km/total_precip'\n",
    "# total_precip_4km_dir_twc = '../../datasets/weather_raster_data/cities_California/twc_data/resampled_precip_data_4km/total_precip'\n",
    "\n",
    "# ref_raster = '../../datasets/downscaled_data/4km/weather_data/modeled_4km/max_temp/max_temp_20020101.tif'\n",
    "\n",
    "# total_precip_8km_datasets = glob(os.path.join(total_precip_8km_dir_twc, '*.tif'))\n",
    "\n",
    "# # Resampling TWC Hi-Res data from 8km to 4km\n",
    "# for precip_data in total_precip_8km_datasets:\n",
    "#     raster_name = os.path.basename(precip_data)\n",
    "#     resample_raster_based_on_ref_raster(input_raster=precip_data, ref_raster=ref_raster, \n",
    "#                                         output_dir=total_precip_4km_dir_twc, \n",
    "#                                         raster_name=raster_name, resampling_alg=Resampling.bilinear,\n",
    "#                                         paste_value_on_ref_raster=False)"
   ]
  },
  {
   "cell_type": "markdown",
   "id": "2b205546",
   "metadata": {},
   "source": [
    "### 4. Replacing some modeled datasets with TWC datasets from 2015\n",
    "We have TWC high resolution data records starting from 2015-06-30 (for precipitation from 2015-12-01). We have modeled high resolution data from 2002 to 2023. Despite that, from 2015 we will use TWC high resolution 4km data. Therefore, we will replace modeled data with TWC datasets from 2015 before compiling all datasets into the ARD.\n",
    "\n",
    "We already copied `max_temp`, `min_temp`, `avg_rel_humidity`, and `avg_wind_speed` TWC data to modeled data folder in V1 ARD procesing. Commenting Out those steps in the following block. Only copying resampled 4km TWC High-Res Precipitation data to resampled ERA5 Precipitation folder."
   ]
  },
  {
   "cell_type": "code",
   "execution_count": 17,
   "id": "c5957db4",
   "metadata": {},
   "outputs": [
    {
     "data": {
      "text/plain": [
       "'../../datasets/downscaled_data/4km/weather_data/resampled_4km/total_precip/total_precip_20181212.tif'"
      ]
     },
     "execution_count": 17,
     "metadata": {},
     "output_type": "execute_result"
    }
   ],
   "source": [
    "# TWC weather datasets\n",
    "# max_temp_dir_twc = '../../datasets/weather_raster_data/cities_California/twc_data/weather_data_4km/max_temp'\n",
    "# min_temp_dir_twc = '../../datasets/weather_raster_data/cities_California/twc_data/weather_data_4km/min_temp'\n",
    "# avg_rel_humid_dir_twc = '../../datasets/weather_raster_data/cities_California/twc_data/weather_data_4km/avg_Rhumid'\n",
    "# avg_wind_speed_dir_twc = '../../datasets/weather_raster_data/cities_California/twc_data/weather_data_4km/avg_wind_speed'\n",
    "precipitation_dir_twc = '../../datasets/weather_raster_data/cities_California/twc_data/resampled_precip_data_4km/total_precip'\n",
    "\n",
    "\n",
    "# model interpolated weather datasets\n",
    "# max_temp_dir_modeled = '../../datasets/downscaled_data/4km/weather_data/modeled_4km/max_temp'\n",
    "# min_temp_dir_modeled = '../../datasets/downscaled_data/4km/weather_data/modeled_4km/min_temp'\n",
    "# avg_rel_humid_dir_modeled = '../../datasets/downscaled_data/4km/weather_data/modeled_4km/avg_Rhumid'\n",
    "# avg_wind_speed_dir_modeled = '../../datasets/downscaled_data/4km/weather_data/modeled_4km/avg_wind_speed'\n",
    "\n",
    "## ERA5 resampled precipitation folder\n",
    "precipitation_dir_era5_resampled = '../../datasets/downscaled_data/4km/weather_data/resampled_4km/total_precip'  # era5 resampled total_precip (2002-2015) + TWC resampled precip after 2015 \n",
    "\n",
    "\n",
    "\n",
    "# copy_file(input_dir_file=max_temp_dir_twc, copy_dir=max_temp_dir_modeled, search_by='*.tif')\n",
    "# copy_file(input_dir_file=min_temp_dir_twc, copy_dir=min_temp_dir_modeled, search_by='*.tif')\n",
    "# copy_file(input_dir_file=avg_rel_humid_dir_twc, copy_dir=avg_rel_humid_dir_modeled, search_by='*.tif')\n",
    "# copy_file(input_dir_file=avg_wind_speed_dir_twc, copy_dir=avg_wind_speed_dir_modeled, search_by='*.tif')\n",
    "copy_file(input_dir_file=precipitation_dir_twc, copy_dir=precipitation_dir_era5_resampled, search_by='*.tif')"
   ]
  },
  {
   "cell_type": "markdown",
   "id": "d0b4687a",
   "metadata": {},
   "source": [
    " ### 5. Copying LST Satellite datasets (100m) to `'../datasets/downscaled_data'` directory\n",
    " This step was performed once in 100m ARD V1 processing. Commenting it out."
   ]
  },
  {
   "cell_type": "code",
   "execution_count": 18,
   "id": "73e26db2",
   "metadata": {},
   "outputs": [],
   "source": [
    "# LST_dir = '../../datasets/satellite_raster_data/Woodland/LST_single_band'\n",
    "# LST_copy_dir = '../../datasets/downscaled_data/100m/satellite_data/LST_woodland'\n",
    "\n",
    "# copy_file(input_dir_file=LST_dir, copy_dir=LST_copy_dir, search_by='*.tif')"
   ]
  },
  {
   "cell_type": "markdown",
   "id": "70d57b59",
   "metadata": {},
   "source": [
    "### 6. Resampling > Masking > Resampling weather datasets to 100m\n",
    "\n",
    "#### Note\n",
    "\n",
    "The pixel size of weather datasets are of 4km. But the Woodland site itself if less than 4km is x-y direction, therefore, masking the dataset with the \"Woodland Site\" bounding box will not work. First, we have to first resample the weather data to 100m using our AOI's 100m reference raster. Second, we have to maskthe datasets with Woodland Bbox. Third, we have to resamplethe datasets again (to 100m) to allign the pixels with the LST satellite data's pixels. The following steps will be followed `resample to 100m > mask with Woodland Bbox > resample to 100m with LST reference raster`\n",
    "\n",
    "Resampling the weather datasets to 100m for the whole AOI (Sacramento) will take up a lot of space, therefore, after resampling the raster and performing the masking+resampling operation, I am deleting the AOI's 100m file. Only storing the masked and resampled 100m raster for the Woodland Bbox."
   ]
  },
  {
   "cell_type": "markdown",
   "id": "4ff51ac2",
   "metadata": {},
   "source": [
    "### 6.1. Copying weather datasets except precipitation to a `V2` folder\n",
    "\n",
    "The 4km modeled weather datasets have already been processed through `resampled (100m) > masked > resampled` processes in 100m ARD V1 processing. We will copy these processed datasets to a `V2` folder `except modeled precipitation` as in V2 version we will use directly resampled ERA5 preceipitation in the ARD."
   ]
  },
  {
   "cell_type": "code",
   "execution_count": 19,
   "id": "ed841ff0",
   "metadata": {},
   "outputs": [
    {
     "name": "stdout",
     "output_type": "stream",
     "text": [
      "Copying processed 100m dataset for avg_wind_speed.....\n",
      "Copying processed 100m dataset for TotNet_SR.....\n",
      "Copying processed 100m dataset for min_Rhumid.....\n",
      "Copying processed 100m dataset for avg_Rhumid.....\n",
      "Copying processed 100m dataset for max_temp.....\n",
      "Copying processed 100m dataset for max_Rhumid.....\n",
      "Copying processed 100m dataset for avg_temp.....\n",
      "Copying processed 100m dataset for min_temp.....\n"
     ]
    }
   ],
   "source": [
    "# copying min relative humidity dataset\n",
    "weather_data_dir = '../../datasets/downscaled_data/100m/weather_data/V1'\n",
    "datasets_to_copy = os.listdir(weather_data_dir)\n",
    "datasets_to_copy = [i for i in datasets_to_copy if 'total_precip' not in i]\n",
    "\n",
    "main_output_folder = '../../datasets/downscaled_data/100m/weather_data/V2'\n",
    "\n",
    "for i in datasets_to_copy:\n",
    "    print(f'Copying processed 100m dataset for {i}.....')\n",
    "    \n",
    "    # folder to copy\n",
    "    dir_to_copy = os.path.join(weather_data_dir, i)\n",
    "    \n",
    "    # folder where files will be copied\n",
    "    output_folder = os.path.join(main_output_folder, i)\n",
    "    \n",
    "    # copying\n",
    "    copy_file(input_dir_file=dir_to_copy, copy_dir=output_folder, search_by='*.tif')"
   ]
  },
  {
   "cell_type": "markdown",
   "id": "16adf151",
   "metadata": {},
   "source": [
    "### 6.2. Resampling>masking>Resampling weather datasets to 100m\n",
    "\n",
    "__As all datasets, except the directly `resampled 4km total precipitation` has already gone through the `resample > mask > resample` processes, only performing the `resample > mask > resample` operation on the `resampled 4km total precipitation` dataset.__"
   ]
  },
  {
   "cell_type": "code",
   "execution_count": 20,
   "id": "f2861736",
   "metadata": {},
   "outputs": [],
   "source": [
    "# era5 directly resampled precipitation dataset\n",
    "precipitation_dir = '../../datasets/downscaled_data/4km/weather_data/resampled_4km/total_precip'  ###### resampled total_precip (not ML/DL model interpolated)"
   ]
  },
  {
   "cell_type": "code",
   "execution_count": null,
   "id": "544e2455",
   "metadata": {},
   "outputs": [
    {
     "name": "stdout",
     "output_type": "stream",
     "text": [
      "Resampling > Masking > Resampling data for total_precip...\n"
     ]
    }
   ],
   "source": [
    "output_dir = '../../datasets/downscaled_data/100m/weather_data/V2'\n",
    "bbox= '../shapefiles_grids/LST_Woodland_bbox.shp'\n",
    "sacramento_ref_raster = cities_California_100m_refraster\n",
    "woodland_ref_raster = '../../datasets/satellite_raster_data/All/land_surface_temperature_Veg_US_Crop_876_2018-08-06.tif'\n",
    "\n",
    "all_weather_data_directories_v2 = [precipitation_dir]\n",
    "\n",
    "resample_mask_resample_weather_datasets_to_shapefile(input_data_dir_list=all_weather_data_directories_v2, \n",
    "                                                     output_main_dir=output_dir, masking_shapefile=bbox, \n",
    "                                                     target_raster_whole_aoi=sacramento_ref_raster, \n",
    "                                                     target_raster_smaller_aoi=woodland_ref_raster)"
   ]
  },
  {
   "cell_type": "markdown",
   "id": "45a5b384",
   "metadata": {},
   "source": [
    "### 7. Compiling weather+satellite datasets to multiple `preARD` dataframes\n",
    "\n",
    "__Weather datasets have extended daily records, therefore, compiling weather datasets into multiple dataframe (referring to as `preARD`. These `preARD` dataframes will be combined into a single dataframe and averaged to form the 100m weather+satellite ARD.__"
   ]
  },
  {
   "cell_type": "code",
   "execution_count": 4,
   "id": "a3a9595a",
   "metadata": {},
   "outputs": [
    {
     "data": {
      "text/plain": [
       "['../../datasets/downscaled_data/100m/weather_data/V2/max_temp',\n",
       " '../../datasets/downscaled_data/100m/weather_data/V2/min_temp',\n",
       " '../../datasets/downscaled_data/100m/weather_data/V2/avg_temp',\n",
       " '../../datasets/downscaled_data/100m/weather_data/V2/avg_Rhumid',\n",
       " '../../datasets/downscaled_data/100m/weather_data/V2/avg_wind_speed',\n",
       " '../../datasets/downscaled_data/100m/weather_data/V2/min_Rhumid',\n",
       " '../../datasets/downscaled_data/100m/weather_data/V2/max_Rhumid',\n",
       " '../../datasets/downscaled_data/100m/weather_data/V2/TotNet_SR',\n",
       " '../../datasets/downscaled_data/100m/weather_data/V2/total_precip']"
      ]
     },
     "execution_count": 4,
     "metadata": {},
     "output_type": "execute_result"
    }
   ],
   "source": [
    "######### 100m weather datasets ############# \n",
    "\n",
    "# model interpolated weather datasets (these datasets were first downscaled by ML/DL model to 4km-8km and then resampled to 100m)\n",
    "max_temp_dir = '../../datasets/downscaled_data/100m/weather_data/V2/max_temp'\n",
    "min_temp_dir = '../../datasets/downscaled_data/100m/weather_data/V2/min_temp'\n",
    "avg_temp_dir = '../../datasets/downscaled_data/100m/weather_data/V2/avg_temp'\n",
    "avg_rel_humid_dir = '../../datasets/downscaled_data/100m/weather_data/V2/avg_Rhumid'\n",
    "avg_wind_speed_dir = '../../datasets/downscaled_data/100m/weather_data/V2/avg_wind_speed'\n",
    "\n",
    "# era5 resampled weather datasets (these datasets were directly resampled from ERA5 28km to 100m)\n",
    "min_rel_humidity_dir = '../../datasets/downscaled_data/100m/weather_data/V2/min_Rhumid'\n",
    "max_rel_humidity_dir = '../../datasets/downscaled_data/100m/weather_data/V2/max_Rhumid'\n",
    "total_net_SR_dir = '../../datasets/downscaled_data/100m/weather_data/V2/TotNet_SR'\n",
    "precipitation_dir = '../../datasets/downscaled_data/100m/weather_data/V2/total_precip'   ###### resampled total_precip (not ML/DL model interpolated)\n",
    "\n",
    "\n",
    "all_weather_data_100m_v2 = [max_temp_dir, min_temp_dir, avg_temp_dir, avg_rel_humid_dir, avg_wind_speed_dir,\n",
    "                            min_rel_humidity_dir, max_rel_humidity_dir, total_net_SR_dir, precipitation_dir, ]\n",
    "\n",
    "all_weather_data_100m_v2"
   ]
  },
  {
   "cell_type": "code",
   "execution_count": 5,
   "id": "bde98908",
   "metadata": {},
   "outputs": [
    {
     "name": "stdout",
     "output_type": "stream",
     "text": [
      "compiling data for max_temp...\n",
      "compiling data for min_temp...\n",
      "compiling data for avg_Rhumid...\n",
      "compiling data for avg_wind_speed...\n",
      "compiling data for total_precip...\n",
      "compiling data for avg_temp...\n",
      "compiling data for min_Rhumid...\n",
      "compiling data for max_Rhumid...\n",
      "compiling data for TotNet_SR...\n",
      "compiling data for LST_woodland...\n"
     ]
    }
   ],
   "source": [
    "weather_data_directories_v2 = all_weather_data_100m_v2\n",
    "satellite_data_directories = ['../../datasets/downscaled_data/100m/satellite_data/LST_woodland']\n",
    "\n",
    "\n",
    "create_weather_satellite_100m_preARD_dataframes(weather_data_directories_list=weather_data_directories_v2, \n",
    "                                                satellite_data_directories_list = satellite_data_directories,\n",
    "                                                output_folder='../../datasets/ARD/100m', \n",
    "                                                savename='weather_satellite_data_100m_preARD_V2', \n",
    "                                                dataset_in_each_chunk=3)"
   ]
  },
  {
   "cell_type": "markdown",
   "id": "f0884eab",
   "metadata": {},
   "source": [
    "### 8. Generating Weather+Satellite ARD 100m\n",
    "Compiling the preARD dataframes into a single dataframe. This single dataframe is our `100m resolution ARD V2`."
   ]
  },
  {
   "cell_type": "code",
   "execution_count": 6,
   "id": "1708af27",
   "metadata": {},
   "outputs": [],
   "source": [
    "weather_satellite_ard_df_v2 = compile_preARD_multiDF_to_ARD(parquet_folder='../../datasets/ARD/100m/weather_satellite_data_100m_preARD_V2', \n",
    "                                                  output_folder='../../datasets/ARD/100m', \n",
    "                                                  savename='weather_satellite_100m_ARD_Woodland_V2.parquet')"
   ]
  },
  {
   "cell_type": "code",
   "execution_count": 7,
   "id": "07bdfc70",
   "metadata": {},
   "outputs": [
    {
     "data": {
      "text/html": [
       "<div>\n",
       "<style scoped>\n",
       "    .dataframe tbody tr th:only-of-type {\n",
       "        vertical-align: middle;\n",
       "    }\n",
       "\n",
       "    .dataframe tbody tr th {\n",
       "        vertical-align: top;\n",
       "    }\n",
       "\n",
       "    .dataframe thead th {\n",
       "        text-align: right;\n",
       "    }\n",
       "</style>\n",
       "<table border=\"1\" class=\"dataframe\">\n",
       "  <thead>\n",
       "    <tr style=\"text-align: right;\">\n",
       "      <th></th>\n",
       "      <th>month_day</th>\n",
       "      <th>lat</th>\n",
       "      <th>lon</th>\n",
       "      <th>LST_woodland</th>\n",
       "      <th>max_temp</th>\n",
       "      <th>min_temp</th>\n",
       "      <th>avg_Rhumid</th>\n",
       "      <th>avg_temp</th>\n",
       "      <th>min_Rhumid</th>\n",
       "      <th>max_Rhumid</th>\n",
       "      <th>TotNet_SR</th>\n",
       "      <th>avg_wind_speed</th>\n",
       "      <th>total_precip</th>\n",
       "    </tr>\n",
       "  </thead>\n",
       "  <tbody>\n",
       "    <tr>\n",
       "      <th>0</th>\n",
       "      <td>01_01</td>\n",
       "      <td>38.670667</td>\n",
       "      <td>-121.816444</td>\n",
       "      <td>6.907501</td>\n",
       "      <td>13.168329</td>\n",
       "      <td>2.783760</td>\n",
       "      <td>61.957291</td>\n",
       "      <td>8.061663</td>\n",
       "      <td>33.431217</td>\n",
       "      <td>78.158134</td>\n",
       "      <td>8.308899</td>\n",
       "      <td>11.084865</td>\n",
       "      <td>0.035342</td>\n",
       "    </tr>\n",
       "    <tr>\n",
       "      <th>1</th>\n",
       "      <td>01_01</td>\n",
       "      <td>38.670667</td>\n",
       "      <td>-121.815556</td>\n",
       "      <td>6.834999</td>\n",
       "      <td>13.166052</td>\n",
       "      <td>2.783000</td>\n",
       "      <td>62.000580</td>\n",
       "      <td>8.055140</td>\n",
       "      <td>33.451252</td>\n",
       "      <td>78.180573</td>\n",
       "      <td>8.309107</td>\n",
       "      <td>11.076511</td>\n",
       "      <td>0.036135</td>\n",
       "    </tr>\n",
       "    <tr>\n",
       "      <th>2</th>\n",
       "      <td>01_01</td>\n",
       "      <td>38.670667</td>\n",
       "      <td>-121.814667</td>\n",
       "      <td>6.779999</td>\n",
       "      <td>13.163774</td>\n",
       "      <td>2.782241</td>\n",
       "      <td>62.043865</td>\n",
       "      <td>8.048616</td>\n",
       "      <td>33.471291</td>\n",
       "      <td>78.203011</td>\n",
       "      <td>8.309315</td>\n",
       "      <td>11.068157</td>\n",
       "      <td>0.036929</td>\n",
       "    </tr>\n",
       "    <tr>\n",
       "      <th>3</th>\n",
       "      <td>01_01</td>\n",
       "      <td>38.670667</td>\n",
       "      <td>-121.813778</td>\n",
       "      <td>7.447495</td>\n",
       "      <td>13.161495</td>\n",
       "      <td>2.781482</td>\n",
       "      <td>62.087151</td>\n",
       "      <td>8.042093</td>\n",
       "      <td>33.491325</td>\n",
       "      <td>78.225449</td>\n",
       "      <td>8.309522</td>\n",
       "      <td>11.059804</td>\n",
       "      <td>0.037723</td>\n",
       "    </tr>\n",
       "    <tr>\n",
       "      <th>4</th>\n",
       "      <td>01_01</td>\n",
       "      <td>38.670667</td>\n",
       "      <td>-121.812889</td>\n",
       "      <td>6.995003</td>\n",
       "      <td>13.159217</td>\n",
       "      <td>2.780722</td>\n",
       "      <td>62.130440</td>\n",
       "      <td>8.035570</td>\n",
       "      <td>33.511360</td>\n",
       "      <td>78.247879</td>\n",
       "      <td>8.309729</td>\n",
       "      <td>11.051450</td>\n",
       "      <td>0.038517</td>\n",
       "    </tr>\n",
       "    <tr>\n",
       "      <th>...</th>\n",
       "      <td>...</td>\n",
       "      <td>...</td>\n",
       "      <td>...</td>\n",
       "      <td>...</td>\n",
       "      <td>...</td>\n",
       "      <td>...</td>\n",
       "      <td>...</td>\n",
       "      <td>...</td>\n",
       "      <td>...</td>\n",
       "      <td>...</td>\n",
       "      <td>...</td>\n",
       "      <td>...</td>\n",
       "      <td>...</td>\n",
       "    </tr>\n",
       "    <tr>\n",
       "      <th>73927</th>\n",
       "      <td>12_31</td>\n",
       "      <td>38.684889</td>\n",
       "      <td>-121.815556</td>\n",
       "      <td>6.096002</td>\n",
       "      <td>13.252660</td>\n",
       "      <td>4.064751</td>\n",
       "      <td>68.257095</td>\n",
       "      <td>9.585676</td>\n",
       "      <td>36.521149</td>\n",
       "      <td>86.334068</td>\n",
       "      <td>7.712244</td>\n",
       "      <td>13.881453</td>\n",
       "      <td>0.462623</td>\n",
       "    </tr>\n",
       "    <tr>\n",
       "      <th>73928</th>\n",
       "      <td>12_31</td>\n",
       "      <td>38.684889</td>\n",
       "      <td>-121.814667</td>\n",
       "      <td>6.515997</td>\n",
       "      <td>13.248056</td>\n",
       "      <td>4.056056</td>\n",
       "      <td>68.306709</td>\n",
       "      <td>9.581711</td>\n",
       "      <td>36.535896</td>\n",
       "      <td>86.351791</td>\n",
       "      <td>7.712217</td>\n",
       "      <td>13.869690</td>\n",
       "      <td>0.466011</td>\n",
       "    </tr>\n",
       "    <tr>\n",
       "      <th>73929</th>\n",
       "      <td>12_31</td>\n",
       "      <td>38.684889</td>\n",
       "      <td>-121.813778</td>\n",
       "      <td>6.783997</td>\n",
       "      <td>13.243454</td>\n",
       "      <td>4.047362</td>\n",
       "      <td>68.356308</td>\n",
       "      <td>9.577745</td>\n",
       "      <td>36.550640</td>\n",
       "      <td>86.369522</td>\n",
       "      <td>7.712190</td>\n",
       "      <td>13.857927</td>\n",
       "      <td>0.469399</td>\n",
       "    </tr>\n",
       "    <tr>\n",
       "      <th>73930</th>\n",
       "      <td>12_31</td>\n",
       "      <td>38.684889</td>\n",
       "      <td>-121.812889</td>\n",
       "      <td>6.221997</td>\n",
       "      <td>13.238851</td>\n",
       "      <td>4.038668</td>\n",
       "      <td>68.405930</td>\n",
       "      <td>9.573781</td>\n",
       "      <td>36.565384</td>\n",
       "      <td>86.387253</td>\n",
       "      <td>7.712164</td>\n",
       "      <td>13.846164</td>\n",
       "      <td>0.472788</td>\n",
       "    </tr>\n",
       "    <tr>\n",
       "      <th>73931</th>\n",
       "      <td>12_31</td>\n",
       "      <td>38.684889</td>\n",
       "      <td>-121.812000</td>\n",
       "      <td>5.681994</td>\n",
       "      <td>13.234247</td>\n",
       "      <td>4.029974</td>\n",
       "      <td>68.455528</td>\n",
       "      <td>9.569815</td>\n",
       "      <td>36.580128</td>\n",
       "      <td>86.404984</td>\n",
       "      <td>7.712138</td>\n",
       "      <td>13.834402</td>\n",
       "      <td>0.476176</td>\n",
       "    </tr>\n",
       "  </tbody>\n",
       "</table>\n",
       "<p>73932 rows × 13 columns</p>\n",
       "</div>"
      ],
      "text/plain": [
       "      month_day        lat         lon  LST_woodland   max_temp  min_temp   \n",
       "0         01_01  38.670667 -121.816444      6.907501  13.168329  2.783760  \\\n",
       "1         01_01  38.670667 -121.815556      6.834999  13.166052  2.783000   \n",
       "2         01_01  38.670667 -121.814667      6.779999  13.163774  2.782241   \n",
       "3         01_01  38.670667 -121.813778      7.447495  13.161495  2.781482   \n",
       "4         01_01  38.670667 -121.812889      6.995003  13.159217  2.780722   \n",
       "...         ...        ...         ...           ...        ...       ...   \n",
       "73927     12_31  38.684889 -121.815556      6.096002  13.252660  4.064751   \n",
       "73928     12_31  38.684889 -121.814667      6.515997  13.248056  4.056056   \n",
       "73929     12_31  38.684889 -121.813778      6.783997  13.243454  4.047362   \n",
       "73930     12_31  38.684889 -121.812889      6.221997  13.238851  4.038668   \n",
       "73931     12_31  38.684889 -121.812000      5.681994  13.234247  4.029974   \n",
       "\n",
       "       avg_Rhumid  avg_temp  min_Rhumid  max_Rhumid  TotNet_SR   \n",
       "0       61.957291  8.061663   33.431217   78.158134   8.308899  \\\n",
       "1       62.000580  8.055140   33.451252   78.180573   8.309107   \n",
       "2       62.043865  8.048616   33.471291   78.203011   8.309315   \n",
       "3       62.087151  8.042093   33.491325   78.225449   8.309522   \n",
       "4       62.130440  8.035570   33.511360   78.247879   8.309729   \n",
       "...           ...       ...         ...         ...        ...   \n",
       "73927   68.257095  9.585676   36.521149   86.334068   7.712244   \n",
       "73928   68.306709  9.581711   36.535896   86.351791   7.712217   \n",
       "73929   68.356308  9.577745   36.550640   86.369522   7.712190   \n",
       "73930   68.405930  9.573781   36.565384   86.387253   7.712164   \n",
       "73931   68.455528  9.569815   36.580128   86.404984   7.712138   \n",
       "\n",
       "       avg_wind_speed  total_precip  \n",
       "0           11.084865      0.035342  \n",
       "1           11.076511      0.036135  \n",
       "2           11.068157      0.036929  \n",
       "3           11.059804      0.037723  \n",
       "4           11.051450      0.038517  \n",
       "...               ...           ...  \n",
       "73927       13.881453      0.462623  \n",
       "73928       13.869690      0.466011  \n",
       "73929       13.857927      0.469399  \n",
       "73930       13.846164      0.472788  \n",
       "73931       13.834402      0.476176  \n",
       "\n",
       "[73932 rows x 13 columns]"
      ]
     },
     "execution_count": 7,
     "metadata": {},
     "output_type": "execute_result"
    }
   ],
   "source": [
    "weather_satellite_ard_df_v2"
   ]
  },
  {
   "cell_type": "code",
   "execution_count": null,
   "id": "ab6686cf",
   "metadata": {},
   "outputs": [],
   "source": []
  }
 ],
 "metadata": {
  "kernelspec": {
   "display_name": "conda_python3",
   "language": "python",
   "name": "conda_python3"
  },
  "language_info": {
   "codemirror_mode": {
    "name": "ipython",
    "version": 3
   },
   "file_extension": ".py",
   "mimetype": "text/x-python",
   "name": "python",
   "nbconvert_exporter": "python",
   "pygments_lexer": "ipython3",
   "version": "3.10.10"
  }
 },
 "nbformat": 4,
 "nbformat_minor": 5
}
